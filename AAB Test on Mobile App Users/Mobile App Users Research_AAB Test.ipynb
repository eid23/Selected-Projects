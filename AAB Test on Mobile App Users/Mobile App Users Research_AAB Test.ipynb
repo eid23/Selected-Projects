{
 "cells": [
  {
   "cell_type": "markdown",
   "metadata": {},
   "source": [
    "# Оценка поведения пользователей мобильного приложения "
   ]
  },
  {
   "cell_type": "markdown",
   "metadata": {},
   "source": [
    "**Цель проекта**: оценить конверсию пользователей мобильного приложения в покупателей \n",
    "\n",
    "**Задачи проекта**:\n",
    "1. Оценить поведение пользователей, выявить критические с точки зрения конверсии этапы\n",
    "2. Оценить результаты эксперимента\n",
    "3. Подготовить рекомендации по итогам оценки"
   ]
  },
  {
   "cell_type": "markdown",
   "metadata": {},
   "source": [
    "## Исходные данные"
   ]
  },
  {
   "cell_type": "code",
   "execution_count": 1,
   "metadata": {},
   "outputs": [],
   "source": [
    "import pandas as pd\n",
    "import datetime as dt\n",
    "import numpy as np\n",
    "import matplotlib.pyplot as plt\n",
    "import math as mth\n",
    "from scipy import stats as st"
   ]
  },
  {
   "cell_type": "code",
   "execution_count": 2,
   "metadata": {},
   "outputs": [
    {
     "data": {
      "text/html": [
       "<div>\n",
       "<style scoped>\n",
       "    .dataframe tbody tr th:only-of-type {\n",
       "        vertical-align: middle;\n",
       "    }\n",
       "\n",
       "    .dataframe tbody tr th {\n",
       "        vertical-align: top;\n",
       "    }\n",
       "\n",
       "    .dataframe thead th {\n",
       "        text-align: right;\n",
       "    }\n",
       "</style>\n",
       "<table border=\"1\" class=\"dataframe\">\n",
       "  <thead>\n",
       "    <tr style=\"text-align: right;\">\n",
       "      <th></th>\n",
       "      <th>EventName</th>\n",
       "      <th>DeviceIDHash</th>\n",
       "      <th>EventTimestamp</th>\n",
       "      <th>ExpId</th>\n",
       "    </tr>\n",
       "  </thead>\n",
       "  <tbody>\n",
       "    <tr>\n",
       "      <th>0</th>\n",
       "      <td>MainScreenAppear</td>\n",
       "      <td>4575588528974610257</td>\n",
       "      <td>1564029816</td>\n",
       "      <td>246</td>\n",
       "    </tr>\n",
       "    <tr>\n",
       "      <th>1</th>\n",
       "      <td>MainScreenAppear</td>\n",
       "      <td>7416695313311560658</td>\n",
       "      <td>1564053102</td>\n",
       "      <td>246</td>\n",
       "    </tr>\n",
       "    <tr>\n",
       "      <th>2</th>\n",
       "      <td>PaymentScreenSuccessful</td>\n",
       "      <td>3518123091307005509</td>\n",
       "      <td>1564054127</td>\n",
       "      <td>248</td>\n",
       "    </tr>\n",
       "    <tr>\n",
       "      <th>3</th>\n",
       "      <td>CartScreenAppear</td>\n",
       "      <td>3518123091307005509</td>\n",
       "      <td>1564054127</td>\n",
       "      <td>248</td>\n",
       "    </tr>\n",
       "    <tr>\n",
       "      <th>4</th>\n",
       "      <td>PaymentScreenSuccessful</td>\n",
       "      <td>6217807653094995999</td>\n",
       "      <td>1564055322</td>\n",
       "      <td>248</td>\n",
       "    </tr>\n",
       "  </tbody>\n",
       "</table>\n",
       "</div>"
      ],
      "text/plain": [
       "                 EventName         DeviceIDHash  EventTimestamp  ExpId\n",
       "0         MainScreenAppear  4575588528974610257      1564029816    246\n",
       "1         MainScreenAppear  7416695313311560658      1564053102    246\n",
       "2  PaymentScreenSuccessful  3518123091307005509      1564054127    248\n",
       "3         CartScreenAppear  3518123091307005509      1564054127    248\n",
       "4  PaymentScreenSuccessful  6217807653094995999      1564055322    248"
      ]
     },
     "metadata": {},
     "output_type": "display_data"
    },
    {
     "name": "stdout",
     "output_type": "stream",
     "text": [
      "<class 'pandas.core.frame.DataFrame'>\n",
      "RangeIndex: 244126 entries, 0 to 244125\n",
      "Data columns (total 4 columns):\n",
      " #   Column          Non-Null Count   Dtype \n",
      "---  ------          --------------   ----- \n",
      " 0   EventName       244126 non-null  object\n",
      " 1   DeviceIDHash    244126 non-null  int64 \n",
      " 2   EventTimestamp  244126 non-null  int64 \n",
      " 3   ExpId           244126 non-null  int64 \n",
      "dtypes: int64(3), object(1)\n",
      "memory usage: 7.5+ MB\n"
     ]
    }
   ],
   "source": [
    "#Изучим имеющиеся данные\n",
    "data = pd.read_csv('C:/Users/dobro/Downloads/logs_exp.csv', sep='\\t')\n",
    "display(data.head())\n",
    "data.info()"
   ]
  },
  {
   "cell_type": "markdown",
   "metadata": {},
   "source": [
    "В составе данных представлены: названия событий, ID устройств пользователей, которым соответствуют события, время совершения события, номер эксперимента.\n",
    "Всего 244126 записей. Явные пропуски отсутствуют.\n"
   ]
  },
  {
   "cell_type": "markdown",
   "metadata": {},
   "source": [
    "## Подготовка данных"
   ]
  },
  {
   "cell_type": "code",
   "execution_count": 3,
   "metadata": {},
   "outputs": [
    {
     "name": "stdout",
     "output_type": "stream",
     "text": [
      "<class 'pandas.core.frame.DataFrame'>\n",
      "RangeIndex: 244126 entries, 0 to 244125\n",
      "Data columns (total 4 columns):\n",
      " #   Column           Non-Null Count   Dtype \n",
      "---  ------           --------------   ----- \n",
      " 0   event_name       244126 non-null  object\n",
      " 1   device_id        244126 non-null  int64 \n",
      " 2   event_timestamp  244126 non-null  int64 \n",
      " 3   exp_id           244126 non-null  int64 \n",
      "dtypes: int64(3), object(1)\n",
      "memory usage: 7.5+ MB\n"
     ]
    }
   ],
   "source": [
    "# Переименуем наименования столбцов для дальнейшей работы.\n",
    "data = data.rename(\n",
    "    columns={'EventName': 'event_name', 'DeviceIDHash': 'device_id', 'EventTimestamp': 'event_timestamp', 'ExpId':'exp_id'}\n",
    ")\n",
    "data.info()"
   ]
  },
  {
   "cell_type": "code",
   "execution_count": 4,
   "metadata": {},
   "outputs": [
    {
     "name": "stdout",
     "output_type": "stream",
     "text": [
      "Пропущенных значений:\n",
      "event_name         0\n",
      "device_id          0\n",
      "event_timestamp    0\n",
      "exp_id             0\n",
      "dtype: int64\n"
     ]
    }
   ],
   "source": [
    "#Проверим данные на наличие пропусков\n",
    "print('Пропущенных значений:')\n",
    "print(data.isna().sum())"
   ]
  },
  {
   "cell_type": "markdown",
   "metadata": {},
   "source": [
    "Пропущенные значения отсутствуют."
   ]
  },
  {
   "cell_type": "code",
   "execution_count": 5,
   "metadata": {},
   "outputs": [
    {
     "name": "stdout",
     "output_type": "stream",
     "text": [
      "Дублирующих значений: 413\n",
      "Дублирующие значения в % от массива: 0.17\n"
     ]
    }
   ],
   "source": [
    "#Проверим данные на наличие полных дубликатов\n",
    "print('Дублирующих значений:', len(data) - len(data.drop_duplicates()))\n",
    "print('Дублирующие значения в % от массива:', round((len(data) - len(data.drop_duplicates()))*100.0/len(data),2))"
   ]
  },
  {
   "cell_type": "markdown",
   "metadata": {},
   "source": [
    "Выявлено 413 дублирующих записей, что составляет 0,17% от массива данных. Для обеспечения корректного анализа удалим дубликаты. "
   ]
  },
  {
   "cell_type": "code",
   "execution_count": 35,
   "metadata": {},
   "outputs": [
    {
     "name": "stdout",
     "output_type": "stream",
     "text": [
      "<class 'pandas.core.frame.DataFrame'>\n",
      "RangeIndex: 243713 entries, 0 to 243712\n",
      "Data columns (total 6 columns):\n",
      " #   Column           Non-Null Count   Dtype         \n",
      "---  ------           --------------   -----         \n",
      " 0   index            243713 non-null  int64         \n",
      " 1   event_name       243713 non-null  object        \n",
      " 2   device_id        243713 non-null  int64         \n",
      " 3   event_timestamp  243713 non-null  datetime64[ns]\n",
      " 4   exp_id           243713 non-null  int64         \n",
      " 5   event_date       243713 non-null  datetime64[ns]\n",
      "dtypes: datetime64[ns](2), int64(3), object(1)\n",
      "memory usage: 11.2+ MB\n"
     ]
    }
   ],
   "source": [
    "data = data.drop_duplicates().reset_index(drop=True)\n",
    "data.info()"
   ]
  },
  {
   "cell_type": "markdown",
   "metadata": {},
   "source": [
    "Данные о дате и времени события сохранены как целое число. Переведем их в формат даты из формата Unix."
   ]
  },
  {
   "cell_type": "code",
   "execution_count": 7,
   "metadata": {},
   "outputs": [
    {
     "data": {
      "text/html": [
       "<div>\n",
       "<style scoped>\n",
       "    .dataframe tbody tr th:only-of-type {\n",
       "        vertical-align: middle;\n",
       "    }\n",
       "\n",
       "    .dataframe tbody tr th {\n",
       "        vertical-align: top;\n",
       "    }\n",
       "\n",
       "    .dataframe thead th {\n",
       "        text-align: right;\n",
       "    }\n",
       "</style>\n",
       "<table border=\"1\" class=\"dataframe\">\n",
       "  <thead>\n",
       "    <tr style=\"text-align: right;\">\n",
       "      <th></th>\n",
       "      <th>index</th>\n",
       "      <th>event_name</th>\n",
       "      <th>device_id</th>\n",
       "      <th>event_timestamp</th>\n",
       "      <th>exp_id</th>\n",
       "    </tr>\n",
       "  </thead>\n",
       "  <tbody>\n",
       "    <tr>\n",
       "      <th>0</th>\n",
       "      <td>0</td>\n",
       "      <td>MainScreenAppear</td>\n",
       "      <td>4575588528974610257</td>\n",
       "      <td>2019-07-25 04:43:36</td>\n",
       "      <td>246</td>\n",
       "    </tr>\n",
       "    <tr>\n",
       "      <th>1</th>\n",
       "      <td>1</td>\n",
       "      <td>MainScreenAppear</td>\n",
       "      <td>7416695313311560658</td>\n",
       "      <td>2019-07-25 11:11:42</td>\n",
       "      <td>246</td>\n",
       "    </tr>\n",
       "    <tr>\n",
       "      <th>2</th>\n",
       "      <td>2</td>\n",
       "      <td>PaymentScreenSuccessful</td>\n",
       "      <td>3518123091307005509</td>\n",
       "      <td>2019-07-25 11:28:47</td>\n",
       "      <td>248</td>\n",
       "    </tr>\n",
       "    <tr>\n",
       "      <th>3</th>\n",
       "      <td>3</td>\n",
       "      <td>CartScreenAppear</td>\n",
       "      <td>3518123091307005509</td>\n",
       "      <td>2019-07-25 11:28:47</td>\n",
       "      <td>248</td>\n",
       "    </tr>\n",
       "    <tr>\n",
       "      <th>4</th>\n",
       "      <td>4</td>\n",
       "      <td>PaymentScreenSuccessful</td>\n",
       "      <td>6217807653094995999</td>\n",
       "      <td>2019-07-25 11:48:42</td>\n",
       "      <td>248</td>\n",
       "    </tr>\n",
       "  </tbody>\n",
       "</table>\n",
       "</div>"
      ],
      "text/plain": [
       "   index               event_name            device_id     event_timestamp  \\\n",
       "0      0         MainScreenAppear  4575588528974610257 2019-07-25 04:43:36   \n",
       "1      1         MainScreenAppear  7416695313311560658 2019-07-25 11:11:42   \n",
       "2      2  PaymentScreenSuccessful  3518123091307005509 2019-07-25 11:28:47   \n",
       "3      3         CartScreenAppear  3518123091307005509 2019-07-25 11:28:47   \n",
       "4      4  PaymentScreenSuccessful  6217807653094995999 2019-07-25 11:48:42   \n",
       "\n",
       "   exp_id  \n",
       "0     246  \n",
       "1     246  \n",
       "2     248  \n",
       "3     248  \n",
       "4     248  "
      ]
     },
     "metadata": {},
     "output_type": "display_data"
    },
    {
     "name": "stdout",
     "output_type": "stream",
     "text": [
      "<class 'pandas.core.frame.DataFrame'>\n",
      "RangeIndex: 243713 entries, 0 to 243712\n",
      "Data columns (total 5 columns):\n",
      " #   Column           Non-Null Count   Dtype         \n",
      "---  ------           --------------   -----         \n",
      " 0   index            243713 non-null  int64         \n",
      " 1   event_name       243713 non-null  object        \n",
      " 2   device_id        243713 non-null  int64         \n",
      " 3   event_timestamp  243713 non-null  datetime64[ns]\n",
      " 4   exp_id           243713 non-null  int64         \n",
      "dtypes: datetime64[ns](1), int64(3), object(1)\n",
      "memory usage: 9.3+ MB\n"
     ]
    }
   ],
   "source": [
    "data['event_timestamp'] = pd.to_datetime(data['event_timestamp'],unit='s')\n",
    "display(data.head())\n",
    "data.info()"
   ]
  },
  {
   "cell_type": "markdown",
   "metadata": {},
   "source": [
    "Столбец event_timestamp преобразован в столбец даты и времени. Создадим отдельный столбец дат."
   ]
  },
  {
   "cell_type": "code",
   "execution_count": 8,
   "metadata": {},
   "outputs": [
    {
     "data": {
      "text/html": [
       "<div>\n",
       "<style scoped>\n",
       "    .dataframe tbody tr th:only-of-type {\n",
       "        vertical-align: middle;\n",
       "    }\n",
       "\n",
       "    .dataframe tbody tr th {\n",
       "        vertical-align: top;\n",
       "    }\n",
       "\n",
       "    .dataframe thead th {\n",
       "        text-align: right;\n",
       "    }\n",
       "</style>\n",
       "<table border=\"1\" class=\"dataframe\">\n",
       "  <thead>\n",
       "    <tr style=\"text-align: right;\">\n",
       "      <th></th>\n",
       "      <th>index</th>\n",
       "      <th>event_name</th>\n",
       "      <th>device_id</th>\n",
       "      <th>event_timestamp</th>\n",
       "      <th>exp_id</th>\n",
       "      <th>event_date</th>\n",
       "    </tr>\n",
       "  </thead>\n",
       "  <tbody>\n",
       "    <tr>\n",
       "      <th>0</th>\n",
       "      <td>0</td>\n",
       "      <td>MainScreenAppear</td>\n",
       "      <td>4575588528974610257</td>\n",
       "      <td>2019-07-25 04:43:36</td>\n",
       "      <td>246</td>\n",
       "      <td>2019-07-25</td>\n",
       "    </tr>\n",
       "    <tr>\n",
       "      <th>1</th>\n",
       "      <td>1</td>\n",
       "      <td>MainScreenAppear</td>\n",
       "      <td>7416695313311560658</td>\n",
       "      <td>2019-07-25 11:11:42</td>\n",
       "      <td>246</td>\n",
       "      <td>2019-07-25</td>\n",
       "    </tr>\n",
       "    <tr>\n",
       "      <th>2</th>\n",
       "      <td>2</td>\n",
       "      <td>PaymentScreenSuccessful</td>\n",
       "      <td>3518123091307005509</td>\n",
       "      <td>2019-07-25 11:28:47</td>\n",
       "      <td>248</td>\n",
       "      <td>2019-07-25</td>\n",
       "    </tr>\n",
       "    <tr>\n",
       "      <th>3</th>\n",
       "      <td>3</td>\n",
       "      <td>CartScreenAppear</td>\n",
       "      <td>3518123091307005509</td>\n",
       "      <td>2019-07-25 11:28:47</td>\n",
       "      <td>248</td>\n",
       "      <td>2019-07-25</td>\n",
       "    </tr>\n",
       "    <tr>\n",
       "      <th>4</th>\n",
       "      <td>4</td>\n",
       "      <td>PaymentScreenSuccessful</td>\n",
       "      <td>6217807653094995999</td>\n",
       "      <td>2019-07-25 11:48:42</td>\n",
       "      <td>248</td>\n",
       "      <td>2019-07-25</td>\n",
       "    </tr>\n",
       "  </tbody>\n",
       "</table>\n",
       "</div>"
      ],
      "text/plain": [
       "   index               event_name            device_id     event_timestamp  \\\n",
       "0      0         MainScreenAppear  4575588528974610257 2019-07-25 04:43:36   \n",
       "1      1         MainScreenAppear  7416695313311560658 2019-07-25 11:11:42   \n",
       "2      2  PaymentScreenSuccessful  3518123091307005509 2019-07-25 11:28:47   \n",
       "3      3         CartScreenAppear  3518123091307005509 2019-07-25 11:28:47   \n",
       "4      4  PaymentScreenSuccessful  6217807653094995999 2019-07-25 11:48:42   \n",
       "\n",
       "   exp_id  event_date  \n",
       "0     246  2019-07-25  \n",
       "1     246  2019-07-25  \n",
       "2     248  2019-07-25  \n",
       "3     248  2019-07-25  \n",
       "4     248  2019-07-25  "
      ]
     },
     "metadata": {},
     "output_type": "display_data"
    }
   ],
   "source": [
    "data['event_date'] = pd.to_datetime(data['event_timestamp']).dt.date\n",
    "display(data.head())"
   ]
  },
  {
   "cell_type": "code",
   "execution_count": 9,
   "metadata": {},
   "outputs": [
    {
     "name": "stdout",
     "output_type": "stream",
     "text": [
      "['MainScreenAppear' 'PaymentScreenSuccessful' 'CartScreenAppear'\n",
      " 'OffersScreenAppear' 'Tutorial']\n"
     ]
    }
   ],
   "source": [
    "#Рассмотрим типы событий, сохраненные в столбце event_name\n",
    "print(data['event_name'].unique())"
   ]
  },
  {
   "cell_type": "markdown",
   "metadata": {},
   "source": [
    "В базе данных представлены 5 видов событий:\n",
    "    - открытие основного экрана\n",
    "    - обучение (инструкция)\n",
    "    - открытие экрана с предложениями\n",
    "    - открытие экрана с заказом (\"корзины\")\n",
    "    - открытие экрана с успешной оплатой.\n",
    "События не дублируются."
   ]
  },
  {
   "cell_type": "code",
   "execution_count": 10,
   "metadata": {},
   "outputs": [
    {
     "name": "stdout",
     "output_type": "stream",
     "text": [
      "[246 248 247]\n",
      "Всего пользователей (по устройствам) 7551\n",
      "Пользователей группы 246 2489\n",
      "Пользователей группы 247 2520\n",
      "Пользователей группы 248 2542\n"
     ]
    }
   ],
   "source": [
    "# Проверим корректность заполнения столбца по группам тестирования\n",
    "print(data['exp_id'].unique())\n",
    "print('Всего пользователей (по устройствам)', len(data['device_id'].unique()))\n",
    "\n",
    "gr246 = data.loc[data['exp_id'] == 246,'device_id'].unique()\n",
    "gr247 = data.loc[data['exp_id'] == 247,'device_id'].unique()\n",
    "gr248 = data.loc[data['exp_id'] == 248,'device_id'].unique()\n",
    "print('Пользователей группы 246', len(gr246))\n",
    "print('Пользователей группы 247', len(gr247))\n",
    "print('Пользователей группы 248', len(gr248))"
   ]
  },
  {
   "cell_type": "markdown",
   "metadata": {},
   "source": [
    "Все пользователи распределены на 3 экспериментальные группы (246, 247 и 248). Размер групп примерно равен."
   ]
  },
  {
   "cell_type": "code",
   "execution_count": 36,
   "metadata": {},
   "outputs": [
    {
     "name": "stdout",
     "output_type": "stream",
     "text": [
      "Случаев одних и тех же пользователей в разных экспериментальных группах: Empty DataFrame\n",
      "Columns: [exp_id]\n",
      "Index: []\n"
     ]
    }
   ],
   "source": [
    "# Проверим отсутствие одних и тех же пользователей в нескольких группах одновременно\n",
    "\n",
    "print('Случаев одних и тех же пользователей в разных экспериментальных группах:', (\n",
    "data\n",
    "    .groupby('device_id')\n",
    "    .agg({'exp_id' : 'nunique'})\n",
    "    .query('exp_id>1')\n",
    "))"
   ]
  },
  {
   "cell_type": "markdown",
   "metadata": {},
   "source": [
    "Случаи учета одних и тех же пользователей (устройств) в разных экспериментальных группах не выявлены. Это позволяет перейти к анализу данных."
   ]
  },
  {
   "cell_type": "markdown",
   "metadata": {},
   "source": [
    "**Промежуточный вывод** \n",
    "\n",
    "В рамках предварительной обработки данных была проведена проверка исходного массива на предмет пропусков (не выявлены) и дублирования. Дублирующие строки (413 записей или 0,17% от всего массива) удалены. Данные о времени событий переведены из формата Unix в формат даты и времени; массив дополнен отдельным столбцом, содержащим дату события (без времени). Проведена проверка данных на предмет полноты распределения пользователей* по экспериментальным группам и отсутствие фактов включения одних и тех же пользователей* в разные группы экспериментов. Такие случаи не обнаружены.\n",
    "\n",
    "*Количество пользователей рассчитано по ID устройств. "
   ]
  },
  {
   "cell_type": "markdown",
   "metadata": {},
   "source": [
    "## Изучение и проверка данных"
   ]
  },
  {
   "cell_type": "code",
   "execution_count": 12,
   "metadata": {},
   "outputs": [
    {
     "name": "stdout",
     "output_type": "stream",
     "text": [
      "Общее число событий в логе 243713\n",
      "Общее число пользователей (по устройствам) 7551\n",
      "Среднее число событий на одного пользователя 32.28\n"
     ]
    }
   ],
   "source": [
    "# Проанализируем общие показатели массива данных\n",
    "print('Общее число событий в логе', len(data['event_name']))\n",
    "print('Общее число пользователей (по устройствам)', len(data['device_id'].unique()))\n",
    "print('Среднее число событий на одного пользователя', round(len(data['event_name'])/len(data['device_id'].unique()),2))"
   ]
  },
  {
   "cell_type": "code",
   "execution_count": 13,
   "metadata": {},
   "outputs": [
    {
     "name": "stdout",
     "output_type": "stream",
     "text": [
      "Минимальная дата 2019-07-25\n",
      "Максимальная дата 2019-08-07\n"
     ]
    }
   ],
   "source": [
    "# Проанализируем временной период, за который имеются данные\n",
    "print('Минимальная дата', data['event_date'].min())\n",
    "print('Максимальная дата', data['event_date'].max())"
   ]
  },
  {
   "cell_type": "markdown",
   "metadata": {},
   "source": [
    "Данные охватывают период с 25 июля по 7 августа 2019 г."
   ]
  },
  {
   "cell_type": "code",
   "execution_count": 14,
   "metadata": {},
   "outputs": [
    {
     "data": {
      "image/png": "[encoded data removed]",
      "text/plain": [
       "<Figure size 1296x360 with 1 Axes>"
      ]
     },
     "metadata": {
      "needs_background": "light"
     },
     "output_type": "display_data"
    }
   ],
   "source": [
    "# Построим гистограмму по датам\n",
    "plt.figure(figsize=(18, 5))  \n",
    "\n",
    "# Строим график выручки группы А\n",
    "plt.hist(data['event_timestamp'])\n",
    "\n",
    "plt.title('Распределение числа событий по дате и времени')  \n",
    "plt.xlabel('Дата и время события')\n",
    "plt.ylabel('Количество событий')\n",
    "plt.show()"
   ]
  },
  {
   "cell_type": "code",
   "execution_count": 15,
   "metadata": {},
   "outputs": [
    {
     "data": {
      "image/png": "[encoded data removed]",
      "text/plain": [
       "<Figure size 1008x360 with 1 Axes>"
      ]
     },
     "metadata": {
      "needs_background": "light"
     },
     "output_type": "display_data"
    }
   ],
   "source": [
    "# код ревьюера\n",
    "data['event_timestamp'].hist(bins=14*24, figsize=(14, 5));   "
   ]
  },
  {
   "cell_type": "markdown",
   "metadata": {},
   "source": [
    "Как следует из графика, события распределены крайне неравномерны: за июль почти нет данных. Основная часть событий в логе характеризует данные после 1 августа. Для корректного анализа исключим из лога данные до 1 августа."
   ]
  },
  {
   "cell_type": "code",
   "execution_count": 16,
   "metadata": {},
   "outputs": [
    {
     "data": {
      "text/html": [
       "<div>\n",
       "<style scoped>\n",
       "    .dataframe tbody tr th:only-of-type {\n",
       "        vertical-align: middle;\n",
       "    }\n",
       "\n",
       "    .dataframe tbody tr th {\n",
       "        vertical-align: top;\n",
       "    }\n",
       "\n",
       "    .dataframe thead th {\n",
       "        text-align: right;\n",
       "    }\n",
       "</style>\n",
       "<table border=\"1\" class=\"dataframe\">\n",
       "  <thead>\n",
       "    <tr style=\"text-align: right;\">\n",
       "      <th></th>\n",
       "      <th>index</th>\n",
       "      <th>event_name</th>\n",
       "      <th>device_id</th>\n",
       "      <th>event_timestamp</th>\n",
       "      <th>exp_id</th>\n",
       "      <th>event_date</th>\n",
       "    </tr>\n",
       "  </thead>\n",
       "  <tbody>\n",
       "    <tr>\n",
       "      <th>2826</th>\n",
       "      <td>2828</td>\n",
       "      <td>Tutorial</td>\n",
       "      <td>3737462046622621720</td>\n",
       "      <td>2019-08-01 00:07:28</td>\n",
       "      <td>246</td>\n",
       "      <td>2019-08-01</td>\n",
       "    </tr>\n",
       "    <tr>\n",
       "      <th>2827</th>\n",
       "      <td>2829</td>\n",
       "      <td>MainScreenAppear</td>\n",
       "      <td>3737462046622621720</td>\n",
       "      <td>2019-08-01 00:08:00</td>\n",
       "      <td>246</td>\n",
       "      <td>2019-08-01</td>\n",
       "    </tr>\n",
       "    <tr>\n",
       "      <th>2828</th>\n",
       "      <td>2830</td>\n",
       "      <td>MainScreenAppear</td>\n",
       "      <td>3737462046622621720</td>\n",
       "      <td>2019-08-01 00:08:55</td>\n",
       "      <td>246</td>\n",
       "      <td>2019-08-01</td>\n",
       "    </tr>\n",
       "    <tr>\n",
       "      <th>2829</th>\n",
       "      <td>2831</td>\n",
       "      <td>OffersScreenAppear</td>\n",
       "      <td>3737462046622621720</td>\n",
       "      <td>2019-08-01 00:08:58</td>\n",
       "      <td>246</td>\n",
       "      <td>2019-08-01</td>\n",
       "    </tr>\n",
       "    <tr>\n",
       "      <th>2830</th>\n",
       "      <td>2832</td>\n",
       "      <td>MainScreenAppear</td>\n",
       "      <td>1433840883824088890</td>\n",
       "      <td>2019-08-01 00:08:59</td>\n",
       "      <td>247</td>\n",
       "      <td>2019-08-01</td>\n",
       "    </tr>\n",
       "  </tbody>\n",
       "</table>\n",
       "</div>"
      ],
      "text/plain": [
       "      index          event_name            device_id     event_timestamp  \\\n",
       "2826   2828            Tutorial  3737462046622621720 2019-08-01 00:07:28   \n",
       "2827   2829    MainScreenAppear  3737462046622621720 2019-08-01 00:08:00   \n",
       "2828   2830    MainScreenAppear  3737462046622621720 2019-08-01 00:08:55   \n",
       "2829   2831  OffersScreenAppear  3737462046622621720 2019-08-01 00:08:58   \n",
       "2830   2832    MainScreenAppear  1433840883824088890 2019-08-01 00:08:59   \n",
       "\n",
       "      exp_id event_date  \n",
       "2826     246 2019-08-01  \n",
       "2827     246 2019-08-01  \n",
       "2828     246 2019-08-01  \n",
       "2829     246 2019-08-01  \n",
       "2830     247 2019-08-01  "
      ]
     },
     "metadata": {},
     "output_type": "display_data"
    },
    {
     "name": "stdout",
     "output_type": "stream",
     "text": [
      "Количество событий в новом логе 240887\n",
      "Удалено событий за период 25.07.19-01.08.19 2826\n",
      "Доля удаленных событий в общем числе событий,% 1.16\n"
     ]
    }
   ],
   "source": [
    "#Исключим из массива события, произошедшие до 2 августа\n",
    "data['event_date'] = pd.to_datetime(data['event_date'])  \n",
    "shdata = data.loc[data['event_date'] >='2019-08-01']\n",
    "display(shdata.head())\n",
    "print('Количество событий в новом логе', len(shdata))\n",
    "print('Удалено событий за период 25.07.19-01.08.19', len(data)-len(shdata))\n",
    "print('Доля удаленных событий в общем числе событий,%', round((len(data) - len(shdata))*100.0/len(data),2))"
   ]
  },
  {
   "cell_type": "markdown",
   "metadata": {},
   "source": [
    "Итак, после удаления событий, произошедших в те дни, по которым данные, очевидно, неполные, для анализа остались 240,9 тыс. событий или 98,8% от общего числа событий в логе.\n",
    "Проверим, что при удалении событий сохранились данные о пользователях всех трех групп."
   ]
  },
  {
   "cell_type": "code",
   "execution_count": 17,
   "metadata": {},
   "outputs": [
    {
     "name": "stdout",
     "output_type": "stream",
     "text": [
      "Всего пользователей (по устройствам) 7534\n",
      "Исключено пользователей при удалении данных 17\n",
      "Доля исключенных пользователей в общем числе 0.23\n",
      "Событий в среднем на одного пользователя 31.97\n",
      "Пользователей группы 246 2484\n",
      "Пользователей группы 247 2513\n",
      "Пользователей группы 248 2537\n"
     ]
    }
   ],
   "source": [
    "#Рассмотрим данные после исключения дней с неполными данными\n",
    "print('Всего пользователей (по устройствам)', len(shdata['device_id'].unique()))\n",
    "\n",
    "print('Исключено пользователей при удалении данных', len(data['device_id'].unique())-len(shdata['device_id'].unique()))\n",
    "\n",
    "print('Доля исключенных пользователей в общем числе', \n",
    "     round((len(data['device_id'].unique())-len(shdata['device_id'].unique()))*100.0\n",
    "      /len(data['device_id'].unique()),2))\n",
    "\n",
    "print('Событий в среднем на одного пользователя', round(len(shdata['event_name'])/len(shdata['device_id'].unique()),2))\n",
    "\n",
    "gr246 = shdata.loc[shdata['exp_id'] == 246,'device_id'].unique()\n",
    "gr247 = shdata.loc[shdata['exp_id'] == 247,'device_id'].unique()\n",
    "gr248 = shdata.loc[shdata['exp_id'] == 248,'device_id'].unique()\n",
    "\n",
    "print('Пользователей группы 246', len(gr246))\n",
    "print('Пользователей группы 247', len(gr247))\n",
    "print('Пользователей группы 248', len(gr248))"
   ]
  },
  {
   "cell_type": "markdown",
   "metadata": {},
   "source": [
    "**Промежуточный вывод**\n",
    "\n",
    "В массиве данных представлены сведения о событиях, совершенных пользователями мобильного приложения с 25.07.2019 по 08.08.2019. Проведенный анализ показал, что количество событий распределено по дням крайне неравномерно, что позволяет предположить, что данные за 25.07-08.01 неполные. \n",
    "\n",
    "Для исключения влияния неполных данных на результаты анализа, информация за 25.07 - 31.07 была исключена из лога. Это привело к исключению 1,16% событий и 0,23% пользователей. Общее число событий, использованных для дальнейшего анализа, составило 240887. Общее число пользователей - 7534. В рамках лога приведены данные по пользователям всех трех групп. В среднем на одного пользователя приходится 31,97 событий."
   ]
  },
  {
   "cell_type": "markdown",
   "metadata": {},
   "source": [
    "## Изучение воронки событий"
   ]
  },
  {
   "cell_type": "code",
   "execution_count": 18,
   "metadata": {},
   "outputs": [
    {
     "data": {
      "text/plain": [
       "event_name\n",
       "CartScreenAppear            42303\n",
       "MainScreenAppear           117328\n",
       "OffersScreenAppear          46333\n",
       "PaymentScreenSuccessful     33918\n",
       "Tutorial                     1005\n",
       "Name: device_id, dtype: int64"
      ]
     },
     "execution_count": 18,
     "metadata": {},
     "output_type": "execute_result"
    }
   ],
   "source": [
    "#Рассмотрим, частоту событий в логе по их видам\n",
    "shdata.groupby('event_name')['device_id'].count()\n"
   ]
  },
  {
   "cell_type": "markdown",
   "metadata": {},
   "source": [
    "Чаще всего пользователи открывали основной экран приложения (117,3 тыс. раз). Существенно реже  - страницу с предложениями о продаже (46,3 тыс. раз). Несколько реже происходили события, связанные с отображением корзины и реже всего - с проведением успешного платежа.\n",
    "\n",
    "Доля событий, связанных с использованием инструкций, невелика и составляет менее 0,5% в общем числе событий."
   ]
  },
  {
   "cell_type": "code",
   "execution_count": 19,
   "metadata": {},
   "outputs": [
    {
     "data": {
      "text/html": [
       "<div>\n",
       "<style scoped>\n",
       "    .dataframe tbody tr th:only-of-type {\n",
       "        vertical-align: middle;\n",
       "    }\n",
       "\n",
       "    .dataframe tbody tr th {\n",
       "        vertical-align: top;\n",
       "    }\n",
       "\n",
       "    .dataframe thead th {\n",
       "        text-align: right;\n",
       "    }\n",
       "</style>\n",
       "<table border=\"1\" class=\"dataframe\">\n",
       "  <thead>\n",
       "    <tr style=\"text-align: right;\">\n",
       "      <th></th>\n",
       "      <th>users_no</th>\n",
       "      <th>perc_of_total</th>\n",
       "    </tr>\n",
       "    <tr>\n",
       "      <th>event_name</th>\n",
       "      <th></th>\n",
       "      <th></th>\n",
       "    </tr>\n",
       "  </thead>\n",
       "  <tbody>\n",
       "    <tr>\n",
       "      <th>MainScreenAppear</th>\n",
       "      <td>7419</td>\n",
       "      <td>98.47</td>\n",
       "    </tr>\n",
       "    <tr>\n",
       "      <th>OffersScreenAppear</th>\n",
       "      <td>4593</td>\n",
       "      <td>60.96</td>\n",
       "    </tr>\n",
       "    <tr>\n",
       "      <th>CartScreenAppear</th>\n",
       "      <td>3734</td>\n",
       "      <td>49.56</td>\n",
       "    </tr>\n",
       "    <tr>\n",
       "      <th>PaymentScreenSuccessful</th>\n",
       "      <td>3539</td>\n",
       "      <td>46.97</td>\n",
       "    </tr>\n",
       "    <tr>\n",
       "      <th>Tutorial</th>\n",
       "      <td>840</td>\n",
       "      <td>11.15</td>\n",
       "    </tr>\n",
       "  </tbody>\n",
       "</table>\n",
       "</div>"
      ],
      "text/plain": [
       "                         users_no  perc_of_total\n",
       "event_name                                      \n",
       "MainScreenAppear             7419          98.47\n",
       "OffersScreenAppear           4593          60.96\n",
       "CartScreenAppear             3734          49.56\n",
       "PaymentScreenSuccessful      3539          46.97\n",
       "Tutorial                      840          11.15"
      ]
     },
     "metadata": {},
     "output_type": "display_data"
    }
   ],
   "source": [
    "#Рассмотрим данные о событиях в разрезе пользователей\n",
    "events_by_users = shdata.pivot_table(\n",
    "    index='event_name',values='device_id',aggfunc='nunique'\n",
    "    ).sort_values(by='device_id',ascending=False)\n",
    "\n",
    "events_by_users.columns = ['users_no']\n",
    "\n",
    "events_by_users['perc_of_total'] = round(events_by_users['users_no']*100.0/len(shdata['device_id'].unique()),2)\n",
    "\n",
    "display(events_by_users)"
   ]
  },
  {
   "cell_type": "markdown",
   "metadata": {},
   "source": [
    "Как следует из результатов расчета, 98,47% пользователей открывали основной экран приложения. 60,96% пользователей открывали страницы со специальными предложениями. Почти половина пользователей (49,56%) открывала корзину (т.е. начинала формировать заказ), а успешно оплатили заказ 46,97% пользователей. Инструкциями воспользовались 11,15% пользователей мобильного приложения."
   ]
  },
  {
   "cell_type": "markdown",
   "metadata": {},
   "source": [
    "Исходя из данных о событиях в разрезе пользователей можно сформировать следующую воронку событий:\n",
    "\n",
    "1. Открытие основной страницы приложения\n",
    "2. Открытие страницы с предлагаемыми товарами\n",
    "3. Открытие корзины\n",
    "4. Отображение страницы с успешным платежом\n",
    "\n",
    "Открытие страницы с инструкциями (Tutorial) не является обязательным и не учитывается в воронке событий."
   ]
  },
  {
   "cell_type": "code",
   "execution_count": 20,
   "metadata": {},
   "outputs": [
    {
     "data": {
      "text/html": [
       "<div>\n",
       "<style scoped>\n",
       "    .dataframe tbody tr th:only-of-type {\n",
       "        vertical-align: middle;\n",
       "    }\n",
       "\n",
       "    .dataframe tbody tr th {\n",
       "        vertical-align: top;\n",
       "    }\n",
       "\n",
       "    .dataframe thead th {\n",
       "        text-align: right;\n",
       "    }\n",
       "</style>\n",
       "<table border=\"1\" class=\"dataframe\">\n",
       "  <thead>\n",
       "    <tr style=\"text-align: right;\">\n",
       "      <th></th>\n",
       "      <th>users_no</th>\n",
       "      <th>perc_of_total</th>\n",
       "      <th>perc_stage</th>\n",
       "      <th>total_sucess</th>\n",
       "    </tr>\n",
       "    <tr>\n",
       "      <th>event_name</th>\n",
       "      <th></th>\n",
       "      <th></th>\n",
       "      <th></th>\n",
       "      <th></th>\n",
       "    </tr>\n",
       "  </thead>\n",
       "  <tbody>\n",
       "    <tr>\n",
       "      <th>MainScreenAppear</th>\n",
       "      <td>7419</td>\n",
       "      <td>98.47</td>\n",
       "      <td>NaN</td>\n",
       "      <td>NaN</td>\n",
       "    </tr>\n",
       "    <tr>\n",
       "      <th>OffersScreenAppear</th>\n",
       "      <td>4593</td>\n",
       "      <td>60.96</td>\n",
       "      <td>61.91</td>\n",
       "      <td>NaN</td>\n",
       "    </tr>\n",
       "    <tr>\n",
       "      <th>CartScreenAppear</th>\n",
       "      <td>3734</td>\n",
       "      <td>49.56</td>\n",
       "      <td>81.30</td>\n",
       "      <td>NaN</td>\n",
       "    </tr>\n",
       "    <tr>\n",
       "      <th>PaymentScreenSuccessful</th>\n",
       "      <td>3539</td>\n",
       "      <td>46.97</td>\n",
       "      <td>94.78</td>\n",
       "      <td>47.70</td>\n",
       "    </tr>\n",
       "    <tr>\n",
       "      <th>Tutorial</th>\n",
       "      <td>840</td>\n",
       "      <td>11.15</td>\n",
       "      <td>23.74</td>\n",
       "      <td>18.29</td>\n",
       "    </tr>\n",
       "  </tbody>\n",
       "</table>\n",
       "</div>"
      ],
      "text/plain": [
       "                         users_no  perc_of_total  perc_stage  total_sucess\n",
       "event_name                                                                \n",
       "MainScreenAppear             7419          98.47         NaN           NaN\n",
       "OffersScreenAppear           4593          60.96       61.91           NaN\n",
       "CartScreenAppear             3734          49.56       81.30           NaN\n",
       "PaymentScreenSuccessful      3539          46.97       94.78         47.70\n",
       "Tutorial                      840          11.15       23.74         18.29"
      ]
     },
     "metadata": {},
     "output_type": "display_data"
    }
   ],
   "source": [
    "#Рассчитаем конверсию пользователей по каждому этапу воронки\n",
    "\n",
    "events_by_users['perc_stage'] = round(events_by_users['users_no']*100.0/events_by_users['users_no'].shift(1),2) \n",
    "events_by_users['total_sucess'] = round(events_by_users['users_no']*100.0/events_by_users['users_no'].shift(3),2) \n",
    "display(events_by_users)\n"
   ]
  },
  {
   "cell_type": "markdown",
   "metadata": {},
   "source": [
    "**Расчеты конверсии по этапам воронки событий** показывают, что:\n",
    "- 61,91% пользователей, открывших главную страницу, дошли до страниц с предложениями товаров;\n",
    "- 81,30% пользователей, открывших страницу с предложениями товаров, открыли корзину;\n",
    "- 94,78% пользователей, открывших корзину, успешно ее оплатили.\n",
    "47,7% пользователей, открывших приложение, успешно оплатили товары."
   ]
  },
  {
   "cell_type": "markdown",
   "metadata": {},
   "source": [
    "**Промежуточный вывод**\n",
    "\n",
    "В целом приложение достаточно успешно: почти половина пользователей, открывших приложение (47,7%), дошло до оплаты.\n",
    "\n",
    "Однако расчет конверсии по этапам воронки событий показывает, что наибольшее число пользователей (38,8%), открывших приложение, теряется на этапе между открытием основного экрана и переходом на страницы с конкретными предложениями товаров. Можно предположить, что навигация на главной странице не очень удобна."
   ]
  },
  {
   "cell_type": "markdown",
   "metadata": {},
   "source": [
    "## Анализ результатов эксперимента"
   ]
  },
  {
   "cell_type": "code",
   "execution_count": 21,
   "metadata": {},
   "outputs": [
    {
     "data": {
      "text/html": [
       "<div>\n",
       "<style scoped>\n",
       "    .dataframe tbody tr th:only-of-type {\n",
       "        vertical-align: middle;\n",
       "    }\n",
       "\n",
       "    .dataframe tbody tr th {\n",
       "        vertical-align: top;\n",
       "    }\n",
       "\n",
       "    .dataframe thead th {\n",
       "        text-align: right;\n",
       "    }\n",
       "</style>\n",
       "<table border=\"1\" class=\"dataframe\">\n",
       "  <thead>\n",
       "    <tr style=\"text-align: right;\">\n",
       "      <th>exp_id</th>\n",
       "      <th>event_name</th>\n",
       "      <th>246</th>\n",
       "      <th>247</th>\n",
       "      <th>248</th>\n",
       "      <th>All</th>\n",
       "    </tr>\n",
       "  </thead>\n",
       "  <tbody>\n",
       "    <tr>\n",
       "      <th>0</th>\n",
       "      <td>All</td>\n",
       "      <td>2484</td>\n",
       "      <td>2513</td>\n",
       "      <td>2537</td>\n",
       "      <td>7534</td>\n",
       "    </tr>\n",
       "    <tr>\n",
       "      <th>1</th>\n",
       "      <td>MainScreenAppear</td>\n",
       "      <td>2450</td>\n",
       "      <td>2476</td>\n",
       "      <td>2493</td>\n",
       "      <td>7419</td>\n",
       "    </tr>\n",
       "    <tr>\n",
       "      <th>2</th>\n",
       "      <td>OffersScreenAppear</td>\n",
       "      <td>1542</td>\n",
       "      <td>1520</td>\n",
       "      <td>1531</td>\n",
       "      <td>4593</td>\n",
       "    </tr>\n",
       "    <tr>\n",
       "      <th>3</th>\n",
       "      <td>CartScreenAppear</td>\n",
       "      <td>1266</td>\n",
       "      <td>1238</td>\n",
       "      <td>1230</td>\n",
       "      <td>3734</td>\n",
       "    </tr>\n",
       "    <tr>\n",
       "      <th>4</th>\n",
       "      <td>PaymentScreenSuccessful</td>\n",
       "      <td>1200</td>\n",
       "      <td>1158</td>\n",
       "      <td>1181</td>\n",
       "      <td>3539</td>\n",
       "    </tr>\n",
       "    <tr>\n",
       "      <th>5</th>\n",
       "      <td>Tutorial</td>\n",
       "      <td>278</td>\n",
       "      <td>283</td>\n",
       "      <td>279</td>\n",
       "      <td>840</td>\n",
       "    </tr>\n",
       "  </tbody>\n",
       "</table>\n",
       "</div>"
      ],
      "text/plain": [
       "exp_id               event_name   246   247   248   All\n",
       "0                           All  2484  2513  2537  7534\n",
       "1              MainScreenAppear  2450  2476  2493  7419\n",
       "2            OffersScreenAppear  1542  1520  1531  4593\n",
       "3              CartScreenAppear  1266  1238  1230  3734\n",
       "4       PaymentScreenSuccessful  1200  1158  1181  3539\n",
       "5                      Tutorial   278   283   279   840"
      ]
     },
     "metadata": {},
     "output_type": "display_data"
    }
   ],
   "source": [
    "# разделим пользователей по группам и событиям\n",
    "events_grouped = shdata.pivot_table(\n",
    "                 index='event_name', columns='exp_id', \n",
    "                 values='device_id', aggfunc='nunique', margins=True).reset_index().sort_values(\n",
    "                 'All', ascending=False).reset_index(drop=True)\n",
    "    \n",
    "display(events_grouped)"
   ]
  },
  {
   "cell_type": "markdown",
   "metadata": {},
   "source": [
    "Общее число пользователей в группе 246 составило 2393, в группе 247 - 2434, а в группе 248 - 2459.\n",
    "В соответствии с исходными данными, группы 246 и 247 - контрольные. Для корректной интерпретации результатов эксперимента необходимо проверить разницу между выборками 246 и 247."
   ]
  },
  {
   "cell_type": "markdown",
   "metadata": {},
   "source": [
    "Для проверки статистического равенства выборок 246 и 247 проведем z-тест по наиболее часто встречающемуся событию (открытию главного экрана).\n",
    "**Нулевая гипотеза:** различия в доле успешных открытий главного экрана в выборках отсутствуют.\n",
    "**Альтернативная гипотеза:** имеются различия в доле успешных открытий главного экрана в выборках."
   ]
  },
  {
   "cell_type": "code",
   "execution_count": 22,
   "metadata": {},
   "outputs": [
    {
     "name": "stdout",
     "output_type": "stream",
     "text": [
      "Доля открытий главного экрана в группе 246 98.63\n",
      "Доля открытий главного экрана в группе 247 98.53\n"
     ]
    }
   ],
   "source": [
    "#Рассчитаем доли успешного открытия главного экрана в этих двух выборках\n",
    "print('Доля открытий главного экрана в группе 246', round(events_grouped.loc[1,246]*100/events_grouped.loc[0,246],2))\n",
    "print('Доля открытий главного экрана в группе 247', round(events_grouped.loc[1,247]*100/events_grouped.loc[0,247],2))"
   ]
  },
  {
   "cell_type": "code",
   "execution_count": 23,
   "metadata": {},
   "outputs": [
    {
     "name": "stdout",
     "output_type": "stream",
     "text": [
      "p-значение:  0.7570597232046099\n",
      "Не получилось отвергнуть нулевую гипотезу, нет оснований считать доли разными\n"
     ]
    }
   ],
   "source": [
    "# Проверяем, находят ли статистические критерии разницу между выборками 246 и 247\n",
    "alpha = .05 # критический уровень статистической значимости\n",
    "\n",
    "successes = np.array([events_grouped.loc[1,246], events_grouped.loc[1,247]]) #успехом считаем открытие главного экрана (самое популярное событие)\n",
    "trials = np.array([events_grouped.loc[0,246], events_grouped.loc[0,247]]) #попыткой считаем общее число пользователей группы\n",
    "\n",
    "# пропорция успехов в первой группе:\n",
    "p246 = successes[0]/trials[0]\n",
    "# пропорция успехов во второй группе:\n",
    "p247 = successes[1]/trials[1]\n",
    "\n",
    "# пропорция успехов в комбинированном датасете:\n",
    "p_combined = (successes[0] + successes[1]) / (trials[0] + trials[1])\n",
    "\n",
    "# разница пропорций в датасетах\n",
    "difference = p246 - p247\n",
    "\n",
    "# считаем статистику в ст.отклонениях стандартного нормального распределения\n",
    "z_value = difference / mth.sqrt(p_combined * (1 - p_combined) * (1/trials[0] + 1/trials[1]))\n",
    "# задаем стандартное нормальное распределение (среднее 0, ст.отклонение 1)\n",
    "distr = st.norm(0, 1) \n",
    "\n",
    "p_value = (1 - distr.cdf(abs(z_value))) * 2\n",
    "\n",
    "print('p-значение: ', p_value)\n",
    "\n",
    "if p_value < alpha:\n",
    "    print('Отвергаем нулевую гипотезу: между долями есть значимая разница')\n",
    "else:\n",
    "    print(\n",
    "        'Не получилось отвергнуть нулевую гипотезу, нет оснований считать доли разными'\n",
    "    )"
   ]
  },
  {
   "cell_type": "markdown",
   "metadata": {},
   "source": [
    "Аналогичные проверки целесообразно провести и для других событий. Для этого напишем общую функцию проверки равенства долей percentage_equality."
   ]
  },
  {
   "cell_type": "code",
   "execution_count": 24,
   "metadata": {},
   "outputs": [],
   "source": [
    "def percentage_equality(successes,trials,alpha):\n",
    "    # пропорция успехов в первой группе:\n",
    "    p1 = successes[0]/trials[0]\n",
    "    # пропорция успехов во второй группе:\n",
    "    p2 = successes[1]/trials[1]\n",
    "\n",
    "    # пропорция успехов в комбинированном датасете:\n",
    "    p_combined = (successes[0] + successes[1]) / (trials[0] + trials[1])\n",
    "\n",
    "    # разница пропорций в датасетах\n",
    "    difference = p1 - p2\n",
    "\n",
    "    # считаем статистику в ст.отклонениях стандартного нормального распределения\n",
    "    z_value = difference / mth.sqrt(p_combined * (1 - p_combined) * (1/trials[0] + 1/trials[1]))\n",
    "    # задаем стандартное нормальное распределение (среднее 0, ст.отклонение 1)\n",
    "    distr = st.norm(0, 1) \n",
    "\n",
    "    p_value = (1 - distr.cdf(abs(z_value))) * 2\n",
    "\n",
    "    if p_value < alpha:\n",
    "        result = 'Отвергаем нулевую гипотезу: между долями есть значимая разница'\n",
    "    else:\n",
    "        result = 'Не получилось отвергнуть нулевую гипотезу, нет оснований считать доли разными'\n",
    "    return 'p-значение',round(p_value,3), result"
   ]
  },
  {
   "cell_type": "code",
   "execution_count": 25,
   "metadata": {
    "scrolled": true
   },
   "outputs": [
    {
     "data": {
      "text/html": [
       "<div>\n",
       "<style scoped>\n",
       "    .dataframe tbody tr th:only-of-type {\n",
       "        vertical-align: middle;\n",
       "    }\n",
       "\n",
       "    .dataframe tbody tr th {\n",
       "        vertical-align: top;\n",
       "    }\n",
       "\n",
       "    .dataframe thead th {\n",
       "        text-align: right;\n",
       "    }\n",
       "</style>\n",
       "<table border=\"1\" class=\"dataframe\">\n",
       "  <thead>\n",
       "    <tr style=\"text-align: right;\">\n",
       "      <th>exp_id</th>\n",
       "      <th>event_name</th>\n",
       "      <th>246</th>\n",
       "      <th>247</th>\n",
       "      <th>248</th>\n",
       "      <th>All</th>\n",
       "      <th>share_246</th>\n",
       "      <th>share_247</th>\n",
       "      <th>share_248</th>\n",
       "    </tr>\n",
       "  </thead>\n",
       "  <tbody>\n",
       "    <tr>\n",
       "      <th>0</th>\n",
       "      <td>All</td>\n",
       "      <td>2484</td>\n",
       "      <td>2513</td>\n",
       "      <td>2537</td>\n",
       "      <td>7534</td>\n",
       "      <td>100.00</td>\n",
       "      <td>100.00</td>\n",
       "      <td>100.00</td>\n",
       "    </tr>\n",
       "    <tr>\n",
       "      <th>1</th>\n",
       "      <td>MainScreenAppear</td>\n",
       "      <td>2450</td>\n",
       "      <td>2476</td>\n",
       "      <td>2493</td>\n",
       "      <td>7419</td>\n",
       "      <td>98.63</td>\n",
       "      <td>98.53</td>\n",
       "      <td>98.27</td>\n",
       "    </tr>\n",
       "    <tr>\n",
       "      <th>2</th>\n",
       "      <td>OffersScreenAppear</td>\n",
       "      <td>1542</td>\n",
       "      <td>1520</td>\n",
       "      <td>1531</td>\n",
       "      <td>4593</td>\n",
       "      <td>62.08</td>\n",
       "      <td>60.49</td>\n",
       "      <td>60.35</td>\n",
       "    </tr>\n",
       "    <tr>\n",
       "      <th>3</th>\n",
       "      <td>CartScreenAppear</td>\n",
       "      <td>1266</td>\n",
       "      <td>1238</td>\n",
       "      <td>1230</td>\n",
       "      <td>3734</td>\n",
       "      <td>50.97</td>\n",
       "      <td>49.26</td>\n",
       "      <td>48.48</td>\n",
       "    </tr>\n",
       "    <tr>\n",
       "      <th>4</th>\n",
       "      <td>PaymentScreenSuccessful</td>\n",
       "      <td>1200</td>\n",
       "      <td>1158</td>\n",
       "      <td>1181</td>\n",
       "      <td>3539</td>\n",
       "      <td>48.31</td>\n",
       "      <td>46.08</td>\n",
       "      <td>46.55</td>\n",
       "    </tr>\n",
       "    <tr>\n",
       "      <th>5</th>\n",
       "      <td>Tutorial</td>\n",
       "      <td>278</td>\n",
       "      <td>283</td>\n",
       "      <td>279</td>\n",
       "      <td>840</td>\n",
       "      <td>11.19</td>\n",
       "      <td>11.26</td>\n",
       "      <td>11.00</td>\n",
       "    </tr>\n",
       "  </tbody>\n",
       "</table>\n",
       "</div>"
      ],
      "text/plain": [
       "exp_id               event_name   246   247   248   All  share_246  share_247  \\\n",
       "0                           All  2484  2513  2537  7534     100.00     100.00   \n",
       "1              MainScreenAppear  2450  2476  2493  7419      98.63      98.53   \n",
       "2            OffersScreenAppear  1542  1520  1531  4593      62.08      60.49   \n",
       "3              CartScreenAppear  1266  1238  1230  3734      50.97      49.26   \n",
       "4       PaymentScreenSuccessful  1200  1158  1181  3539      48.31      46.08   \n",
       "5                      Tutorial   278   283   279   840      11.19      11.26   \n",
       "\n",
       "exp_id  share_248  \n",
       "0          100.00  \n",
       "1           98.27  \n",
       "2           60.35  \n",
       "3           48.48  \n",
       "4           46.55  \n",
       "5           11.00  "
      ]
     },
     "metadata": {},
     "output_type": "display_data"
    }
   ],
   "source": [
    "# Рассчитаем доли пользователей, выполнивших те или иные события в каждой из групп\n",
    "\n",
    "events_grouped['share_246'] = round(events_grouped[246]*100.0/events_grouped[246].max(),2)\n",
    "events_grouped['share_247'] = round(events_grouped[247]*100.0/events_grouped[247].max(),2)\n",
    "events_grouped['share_248'] = round(events_grouped[248]*100.0/events_grouped[248].max(),2)\n",
    "\n",
    "display(events_grouped)"
   ]
  },
  {
   "cell_type": "code",
   "execution_count": 26,
   "metadata": {},
   "outputs": [
    {
     "name": "stdout",
     "output_type": "stream",
     "text": [
      "Проверка по доле открывших предложения с товарами\n",
      "('p-значение', 0.248, 'Не получилось отвергнуть нулевую гипотезу, нет оснований считать доли разными')\n",
      "Проверка по доле открывших страницу с корзиной\n",
      "('p-значение', 0.229, 'Не получилось отвергнуть нулевую гипотезу, нет оснований считать доли разными')\n",
      "Проверка по доле совершивших успешную покупку\n",
      "('p-значение', 0.115, 'Не получилось отвергнуть нулевую гипотезу, нет оснований считать доли разными')\n",
      "Проверка по доле открывших инструкции\n",
      "('p-значение', 0.938, 'Не получилось отвергнуть нулевую гипотезу, нет оснований считать доли разными')\n"
     ]
    }
   ],
   "source": [
    "#Сопоставим доли совершивших остальные типы событий по двум контрольным группам\n",
    "\n",
    "alpha = 0.05\n",
    "\n",
    "print('Проверка по доле открывших предложения с товарами')\n",
    "print(percentage_equality(np.array([events_grouped.loc[2,246],events_grouped.loc[2,247]]),\n",
    "                          np.array([events_grouped.loc[0,246],events_grouped.loc[0,247]]),alpha))\n",
    "\n",
    "print('Проверка по доле открывших страницу с корзиной')\n",
    "print(percentage_equality(np.array([events_grouped.loc[3,246],events_grouped.loc[3,247]]),\n",
    "                          np.array([events_grouped.loc[0,246],events_grouped.loc[0,247]]),alpha))\n",
    "\n",
    "print('Проверка по доле совершивших успешную покупку')\n",
    "print(percentage_equality(np.array([events_grouped.loc[4,246],events_grouped.loc[4,247]]),\n",
    "                          np.array([events_grouped.loc[0,246],events_grouped.loc[0,247]]),alpha))\n",
    "\n",
    "print('Проверка по доле открывших инструкции')\n",
    "print(percentage_equality(np.array([events_grouped.loc[5,246],events_grouped.loc[5,247]]),\n",
    "                          np.array([events_grouped.loc[0,246],events_grouped.loc[0,247]]),alpha))"
   ]
  },
  {
   "cell_type": "markdown",
   "metadata": {},
   "source": [
    "Результаты проверки показывают, что ни по одному показателю нет оснований считать доли разными в выборках 246 и 247. \n",
    "\n",
    "**Таким образом, статистические тесты не выявили значимых существенных различий между двумя контрольными группами пользователей. Это позволяет сопоставить результаты экспериментальной группы 248 с результатами контрольных групп 246 и 247.**"
   ]
  },
  {
   "cell_type": "code",
   "execution_count": 27,
   "metadata": {},
   "outputs": [
    {
     "name": "stdout",
     "output_type": "stream",
     "text": [
      "Проверка по доле открывших главный экран\n",
      "('p-значение', 0.295, 'Не получилось отвергнуть нулевую гипотезу, нет оснований считать доли разными')\n",
      "Проверка по доле открывших предложения с товарами\n",
      "('p-значение', 0.208, 'Не получилось отвергнуть нулевую гипотезу, нет оснований считать доли разными')\n",
      "Проверка по доле открывших страницу с корзиной\n",
      "('p-значение', 0.078, 'Не получилось отвергнуть нулевую гипотезу, нет оснований считать доли разными')\n",
      "Проверка по доле совершивших успешную покупку\n",
      "('p-значение', 0.212, 'Не получилось отвергнуть нулевую гипотезу, нет оснований считать доли разными')\n"
     ]
    }
   ],
   "source": [
    "#Сопоставим результаты экспериментальной группы 248 с данными контрольной группы 246\n",
    "\n",
    "print('Проверка по доле открывших главный экран')\n",
    "print(percentage_equality(np.array([events_grouped.loc[1,246],events_grouped.loc[1,248]]),\n",
    "                          np.array([events_grouped.loc[0,246],events_grouped.loc[0,248]]),alpha))\n",
    "\n",
    "print('Проверка по доле открывших предложения с товарами')\n",
    "print(percentage_equality(np.array([events_grouped.loc[2,246],events_grouped.loc[2,248]]),\n",
    "                          np.array([events_grouped.loc[0,246],events_grouped.loc[0,248]]),alpha))\n",
    "\n",
    "print('Проверка по доле открывших страницу с корзиной')\n",
    "print(percentage_equality(np.array([events_grouped.loc[3,246],events_grouped.loc[3,248]]),\n",
    "                          np.array([events_grouped.loc[0,246],events_grouped.loc[0,248]]),alpha))\n",
    "\n",
    "print('Проверка по доле совершивших успешную покупку')\n",
    "print(percentage_equality(np.array([events_grouped.loc[4,246],events_grouped.loc[4,248]]),\n",
    "                          np.array([events_grouped.loc[0,246],events_grouped.loc[0,248]]),alpha))\n"
   ]
  },
  {
   "cell_type": "markdown",
   "metadata": {},
   "source": [
    "Ни по одному из показателей не выявлено значимых различий между данными экспериментальной группы 248 и контрольной группы 246. "
   ]
  },
  {
   "cell_type": "code",
   "execution_count": 28,
   "metadata": {},
   "outputs": [
    {
     "name": "stdout",
     "output_type": "stream",
     "text": [
      "Проверка по доле открывших главный экран\n",
      "('p-значение', 0.459, 'Не получилось отвергнуть нулевую гипотезу, нет оснований считать доли разными')\n",
      "Проверка по доле открывших предложения с товарами\n",
      "('p-значение', 0.92, 'Не получилось отвергнуть нулевую гипотезу, нет оснований считать доли разными')\n",
      "Проверка по доле открывших страницу с корзиной\n",
      "('p-значение', 0.579, 'Не получилось отвергнуть нулевую гипотезу, нет оснований считать доли разными')\n",
      "Проверка по доле совершивших успешную покупку\n",
      "('p-значение', 0.737, 'Не получилось отвергнуть нулевую гипотезу, нет оснований считать доли разными')\n"
     ]
    }
   ],
   "source": [
    "#Сопоставим результаты экспериментальной группы 248 с данными контрольной группы 247\n",
    "\n",
    "print('Проверка по доле открывших главный экран')\n",
    "print(percentage_equality(np.array([events_grouped.loc[1,247],events_grouped.loc[1,248]]),\n",
    "                          np.array([events_grouped.loc[0,247],events_grouped.loc[0,248]]),alpha))\n",
    "\n",
    "print('Проверка по доле открывших предложения с товарами')\n",
    "print(percentage_equality(np.array([events_grouped.loc[2,247],events_grouped.loc[2,248]]),\n",
    "                          np.array([events_grouped.loc[0,247],events_grouped.loc[0,248]]),alpha))\n",
    "\n",
    "print('Проверка по доле открывших страницу с корзиной')\n",
    "print(percentage_equality(np.array([events_grouped.loc[3,247],events_grouped.loc[3,248]]),\n",
    "                          np.array([events_grouped.loc[0,247],events_grouped.loc[0,248]]),alpha))\n",
    "\n",
    "print('Проверка по доле совершивших успешную покупку')\n",
    "print(percentage_equality(np.array([events_grouped.loc[4,247],events_grouped.loc[4,248]]),\n",
    "                          np.array([events_grouped.loc[0,247],events_grouped.loc[0,248]]),alpha))"
   ]
  },
  {
   "cell_type": "markdown",
   "metadata": {},
   "source": [
    "Ни по одному из показателей не выявлено значимых различий между данными экспериментальной группы 248 и контрольной группы 247."
   ]
  },
  {
   "cell_type": "code",
   "execution_count": 29,
   "metadata": {},
   "outputs": [
    {
     "data": {
      "text/html": [
       "<div>\n",
       "<style scoped>\n",
       "    .dataframe tbody tr th:only-of-type {\n",
       "        vertical-align: middle;\n",
       "    }\n",
       "\n",
       "    .dataframe tbody tr th {\n",
       "        vertical-align: top;\n",
       "    }\n",
       "\n",
       "    .dataframe thead th {\n",
       "        text-align: right;\n",
       "    }\n",
       "</style>\n",
       "<table border=\"1\" class=\"dataframe\">\n",
       "  <thead>\n",
       "    <tr style=\"text-align: right;\">\n",
       "      <th>exp_id</th>\n",
       "      <th>event_name</th>\n",
       "      <th>246</th>\n",
       "      <th>247</th>\n",
       "      <th>248</th>\n",
       "      <th>All</th>\n",
       "      <th>share_246</th>\n",
       "      <th>share_247</th>\n",
       "      <th>share_248</th>\n",
       "      <th>control</th>\n",
       "    </tr>\n",
       "  </thead>\n",
       "  <tbody>\n",
       "    <tr>\n",
       "      <th>0</th>\n",
       "      <td>All</td>\n",
       "      <td>2484</td>\n",
       "      <td>2513</td>\n",
       "      <td>2537</td>\n",
       "      <td>7534</td>\n",
       "      <td>100.00</td>\n",
       "      <td>100.00</td>\n",
       "      <td>100.00</td>\n",
       "      <td>4997</td>\n",
       "    </tr>\n",
       "    <tr>\n",
       "      <th>1</th>\n",
       "      <td>MainScreenAppear</td>\n",
       "      <td>2450</td>\n",
       "      <td>2476</td>\n",
       "      <td>2493</td>\n",
       "      <td>7419</td>\n",
       "      <td>98.63</td>\n",
       "      <td>98.53</td>\n",
       "      <td>98.27</td>\n",
       "      <td>4926</td>\n",
       "    </tr>\n",
       "    <tr>\n",
       "      <th>2</th>\n",
       "      <td>OffersScreenAppear</td>\n",
       "      <td>1542</td>\n",
       "      <td>1520</td>\n",
       "      <td>1531</td>\n",
       "      <td>4593</td>\n",
       "      <td>62.08</td>\n",
       "      <td>60.49</td>\n",
       "      <td>60.35</td>\n",
       "      <td>3062</td>\n",
       "    </tr>\n",
       "    <tr>\n",
       "      <th>3</th>\n",
       "      <td>CartScreenAppear</td>\n",
       "      <td>1266</td>\n",
       "      <td>1238</td>\n",
       "      <td>1230</td>\n",
       "      <td>3734</td>\n",
       "      <td>50.97</td>\n",
       "      <td>49.26</td>\n",
       "      <td>48.48</td>\n",
       "      <td>2504</td>\n",
       "    </tr>\n",
       "    <tr>\n",
       "      <th>4</th>\n",
       "      <td>PaymentScreenSuccessful</td>\n",
       "      <td>1200</td>\n",
       "      <td>1158</td>\n",
       "      <td>1181</td>\n",
       "      <td>3539</td>\n",
       "      <td>48.31</td>\n",
       "      <td>46.08</td>\n",
       "      <td>46.55</td>\n",
       "      <td>2358</td>\n",
       "    </tr>\n",
       "    <tr>\n",
       "      <th>5</th>\n",
       "      <td>Tutorial</td>\n",
       "      <td>278</td>\n",
       "      <td>283</td>\n",
       "      <td>279</td>\n",
       "      <td>840</td>\n",
       "      <td>11.19</td>\n",
       "      <td>11.26</td>\n",
       "      <td>11.00</td>\n",
       "      <td>561</td>\n",
       "    </tr>\n",
       "  </tbody>\n",
       "</table>\n",
       "</div>"
      ],
      "text/plain": [
       "exp_id               event_name   246   247   248   All  share_246  share_247  \\\n",
       "0                           All  2484  2513  2537  7534     100.00     100.00   \n",
       "1              MainScreenAppear  2450  2476  2493  7419      98.63      98.53   \n",
       "2            OffersScreenAppear  1542  1520  1531  4593      62.08      60.49   \n",
       "3              CartScreenAppear  1266  1238  1230  3734      50.97      49.26   \n",
       "4       PaymentScreenSuccessful  1200  1158  1181  3539      48.31      46.08   \n",
       "5                      Tutorial   278   283   279   840      11.19      11.26   \n",
       "\n",
       "exp_id  share_248  control  \n",
       "0          100.00     4997  \n",
       "1           98.27     4926  \n",
       "2           60.35     3062  \n",
       "3           48.48     2504  \n",
       "4           46.55     2358  \n",
       "5           11.00      561  "
      ]
     },
     "metadata": {},
     "output_type": "display_data"
    }
   ],
   "source": [
    "# Проведем сопоставление экспериментальной группы 248 с объединенной контрольной группой (246 и 247)\n",
    "\n",
    "# Дополним таблицу events_grouped столбцом с объединенными данными\n",
    "events_grouped['control'] = events_grouped[246] + events_grouped[247]\n",
    "\n",
    "display(events_grouped)"
   ]
  },
  {
   "cell_type": "code",
   "execution_count": 30,
   "metadata": {},
   "outputs": [
    {
     "name": "stdout",
     "output_type": "stream",
     "text": [
      "Проверка по доле открывших главный экран\n",
      "('p-значение', 0.294, 'Не получилось отвергнуть нулевую гипотезу, нет оснований считать доли разными')\n",
      "Проверка по доле открывших предложения с товарами\n",
      "('p-значение', 0.434, 'Не получилось отвергнуть нулевую гипотезу, нет оснований считать доли разными')\n",
      "Проверка по доле открывших страницу с корзиной\n",
      "('p-значение', 0.182, 'Не получилось отвергнуть нулевую гипотезу, нет оснований считать доли разными')\n",
      "Проверка по доле совершивших успешную покупку\n",
      "('p-значение', 0.6, 'Не получилось отвергнуть нулевую гипотезу, нет оснований считать доли разными')\n"
     ]
    }
   ],
   "source": [
    "#Сопоставим результаты экспериментальной группы 248 с данными объединенной контрольной группы\n",
    "\n",
    "print('Проверка по доле открывших главный экран')\n",
    "print(percentage_equality(np.array([events_grouped.loc[1,'control'],events_grouped.loc[1,248]]),\n",
    "                          np.array([events_grouped.loc[0,'control'],events_grouped.loc[0,248]]),alpha))\n",
    "\n",
    "print('Проверка по доле открывших предложения с товарами')\n",
    "print(percentage_equality(np.array([events_grouped.loc[2,'control'],events_grouped.loc[2,248]]),\n",
    "                          np.array([events_grouped.loc[0,'control'],events_grouped.loc[0,248]]),alpha))\n",
    "\n",
    "print('Проверка по доле открывших страницу с корзиной')\n",
    "print(percentage_equality(np.array([events_grouped.loc[3,'control'],events_grouped.loc[3,248]]),\n",
    "                          np.array([events_grouped.loc[0,'control'],events_grouped.loc[0,248]]),alpha))\n",
    "\n",
    "print('Проверка по доле совершивших успешную покупку')\n",
    "print(percentage_equality(np.array([events_grouped.loc[4,'control'],events_grouped.loc[4,248]]),\n",
    "                          np.array([events_grouped.loc[0,'control'],events_grouped.loc[0,248]]),alpha))"
   ]
  },
  {
   "cell_type": "markdown",
   "metadata": {},
   "source": [
    "Ни по одному из показателей не выявлено значимых различий между данными экспериментальной группы 248 и объединенной контрольной группы."
   ]
  },
  {
   "cell_type": "markdown",
   "metadata": {},
   "source": [
    "**Промежуточный вывод** \n",
    "\n",
    "Изменение шрифтов в приложении не привело к повышению конверсии пользователей. Различий доле пользователей, достигших тех или иных событий в воронке событий, между экспериментальной группой и контрольными группами (а также объединенной контрольной группой) не выявлено.\n",
    "**На основе проведенного анализа переход к новым шрифтам в приложении нецелесообразен**."
   ]
  },
  {
   "cell_type": "markdown",
   "metadata": {},
   "source": [
    "Анализ результатов эксперимента предполагал многократное сопоставление данных между тремя различными группами. Всего экспериментальную группу мы сопоставляли с контрольными в разных комбинациях 12 раз. Такое многократное сопоставление может приводить к риску появления ошибок первого рода - получения ложноположительных результатов в случаях, когда на самом деле различия отсутствуют.\n",
    "\n",
    "Для снижения указанного риска целесообразно применять поправку Бонферрони (т.е. скорректировать уровень значимости альфа, разделив его на число проведенных тестов)."
   ]
  },
  {
   "cell_type": "code",
   "execution_count": 31,
   "metadata": {},
   "outputs": [
    {
     "name": "stdout",
     "output_type": "stream",
     "text": [
      "Скорректированный уровень значимости 0.004166666666666667\n"
     ]
    }
   ],
   "source": [
    "#Рассчитаем скорректированное значение альфа\n",
    "alphab = 0.05/12\n",
    "print('Скорректированный уровень значимости', alphab)"
   ]
  },
  {
   "cell_type": "code",
   "execution_count": 32,
   "metadata": {},
   "outputs": [
    {
     "name": "stdout",
     "output_type": "stream",
     "text": [
      "Проверка по доле открывших главный экран\n",
      "('p-значение', 0.295, 'Не получилось отвергнуть нулевую гипотезу, нет оснований считать доли разными')\n",
      "Проверка по доле открывших предложения с товарами\n",
      "('p-значение', 0.208, 'Не получилось отвергнуть нулевую гипотезу, нет оснований считать доли разными')\n",
      "Проверка по доле открывших страницу с корзиной\n",
      "('p-значение', 0.078, 'Не получилось отвергнуть нулевую гипотезу, нет оснований считать доли разными')\n",
      "Проверка по доле совершивших успешную покупку\n",
      "('p-значение', 0.212, 'Не получилось отвергнуть нулевую гипотезу, нет оснований считать доли разными')\n"
     ]
    }
   ],
   "source": [
    "#Сопоставим результаты экспериментальной группы 248 с данными контрольной группы 246\n",
    "\n",
    "alpha = alphab\n",
    "print('Проверка по доле открывших главный экран')\n",
    "print(percentage_equality(np.array([events_grouped.loc[1,246],events_grouped.loc[1,248]]),\n",
    "                          np.array([events_grouped.loc[0,246],events_grouped.loc[0,248]]),alpha))\n",
    "\n",
    "print('Проверка по доле открывших предложения с товарами')\n",
    "print(percentage_equality(np.array([events_grouped.loc[2,246],events_grouped.loc[2,248]]),\n",
    "                          np.array([events_grouped.loc[0,246],events_grouped.loc[0,248]]),alpha))\n",
    "\n",
    "print('Проверка по доле открывших страницу с корзиной')\n",
    "print(percentage_equality(np.array([events_grouped.loc[3,246],events_grouped.loc[3,248]]),\n",
    "                          np.array([events_grouped.loc[0,246],events_grouped.loc[0,248]]),alpha))\n",
    "\n",
    "print('Проверка по доле совершивших успешную покупку')\n",
    "print(percentage_equality(np.array([events_grouped.loc[4,246],events_grouped.loc[4,248]]),\n",
    "                          np.array([events_grouped.loc[0,246],events_grouped.loc[0,248]]),alpha))\n"
   ]
  },
  {
   "cell_type": "code",
   "execution_count": 33,
   "metadata": {},
   "outputs": [
    {
     "name": "stdout",
     "output_type": "stream",
     "text": [
      "Проверка по доле открывших главный экран\n",
      "('p-значение', 0.459, 'Не получилось отвергнуть нулевую гипотезу, нет оснований считать доли разными')\n",
      "Проверка по доле открывших предложения с товарами\n",
      "('p-значение', 0.92, 'Не получилось отвергнуть нулевую гипотезу, нет оснований считать доли разными')\n",
      "Проверка по доле открывших страницу с корзиной\n",
      "('p-значение', 0.579, 'Не получилось отвергнуть нулевую гипотезу, нет оснований считать доли разными')\n",
      "Проверка по доле совершивших успешную покупку\n",
      "('p-значение', 0.737, 'Не получилось отвергнуть нулевую гипотезу, нет оснований считать доли разными')\n"
     ]
    }
   ],
   "source": [
    "#Сопоставим данные экспериментальной группы 248 с данными контрольной группы 247\n",
    "\n",
    "print('Проверка по доле открывших главный экран')\n",
    "print(percentage_equality(np.array([events_grouped.loc[1,247],events_grouped.loc[1,248]]),\n",
    "                          np.array([events_grouped.loc[0,247],events_grouped.loc[0,248]]),alpha))\n",
    "\n",
    "print('Проверка по доле открывших предложения с товарами')\n",
    "print(percentage_equality(np.array([events_grouped.loc[2,247],events_grouped.loc[2,248]]),\n",
    "                          np.array([events_grouped.loc[0,247],events_grouped.loc[0,248]]),alpha))\n",
    "\n",
    "print('Проверка по доле открывших страницу с корзиной')\n",
    "print(percentage_equality(np.array([events_grouped.loc[3,247],events_grouped.loc[3,248]]),\n",
    "                          np.array([events_grouped.loc[0,247],events_grouped.loc[0,248]]),alpha))\n",
    "\n",
    "print('Проверка по доле совершивших успешную покупку')\n",
    "print(percentage_equality(np.array([events_grouped.loc[4,247],events_grouped.loc[4,248]]),\n",
    "                          np.array([events_grouped.loc[0,247],events_grouped.loc[0,248]]),alpha))"
   ]
  },
  {
   "cell_type": "code",
   "execution_count": 34,
   "metadata": {},
   "outputs": [
    {
     "name": "stdout",
     "output_type": "stream",
     "text": [
      "Проверка по доле открывших главный экран\n",
      "('p-значение', 0.294, 'Не получилось отвергнуть нулевую гипотезу, нет оснований считать доли разными')\n",
      "Проверка по доле открывших предложения с товарами\n",
      "('p-значение', 0.434, 'Не получилось отвергнуть нулевую гипотезу, нет оснований считать доли разными')\n",
      "Проверка по доле открывших страницу с корзиной\n",
      "('p-значение', 0.182, 'Не получилось отвергнуть нулевую гипотезу, нет оснований считать доли разными')\n",
      "Проверка по доле совершивших успешную покупку\n",
      "('p-значение', 0.6, 'Не получилось отвергнуть нулевую гипотезу, нет оснований считать доли разными')\n"
     ]
    }
   ],
   "source": [
    "#Сопоставим результаты экспериментальной группы 248 с данными объединенной контрольной группы\n",
    "\n",
    "print('Проверка по доле открывших главный экран')\n",
    "print(percentage_equality(np.array([events_grouped.loc[1,'control'],events_grouped.loc[1,248]]),\n",
    "                          np.array([events_grouped.loc[0,'control'],events_grouped.loc[0,248]]),alpha))\n",
    "\n",
    "print('Проверка по доле открывших предложения с товарами')\n",
    "print(percentage_equality(np.array([events_grouped.loc[2,'control'],events_grouped.loc[2,248]]),\n",
    "                          np.array([events_grouped.loc[0,'control'],events_grouped.loc[0,248]]),alpha))\n",
    "\n",
    "print('Проверка по доле открывших страницу с корзиной')\n",
    "print(percentage_equality(np.array([events_grouped.loc[3,'control'],events_grouped.loc[3,248]]),\n",
    "                          np.array([events_grouped.loc[0,'control'],events_grouped.loc[0,248]]),alpha))\n",
    "\n",
    "print('Проверка по доле совершивших успешную покупку')\n",
    "print(percentage_equality(np.array([events_grouped.loc[4,'control'],events_grouped.loc[4,248]]),\n",
    "                          np.array([events_grouped.loc[0,'control'],events_grouped.loc[0,248]]),alpha))"
   ]
  },
  {
   "cell_type": "markdown",
   "metadata": {},
   "source": [
    "**Промежуточный вывод**\n",
    "\n",
    "Изменение шрифтов в приложении не привело к повышению конверсии пользователей. Различий доле пользователей, достигших тех или иных событий в воронке событий, между экспериментальной группой и контрольными группами (а также объединенной контрольной группой) не выявлено. На основе проведенного анализа переход к новым шрифтам в приложении нецелесообразен.\n"
   ]
  },
  {
   "cell_type": "markdown",
   "metadata": {},
   "source": [
    "## Общий вывод"
   ]
  },
  {
   "cell_type": "markdown",
   "metadata": {},
   "source": [
    "Ни по одному из показателей не выявлено значимых различий между данными экспериментальной группы 248 и контрольной группы 247."
   ]
  },
  {
   "cell_type": "markdown",
   "metadata": {},
   "source": [
    "**Цель проекта** заключалась в оценке конверсии пользователей мобильного приложения в покупателей \n",
    "\n",
    "\n",
    "**Задачи проекта**:\n",
    "1. Оценить поведение пользователей, выявить критические с точки зрения конверсии этапы\n",
    "2. Оценить результаты эксперимента\n",
    "3. Подготовить рекомендации по итогам оценки"
   ]
  },
  {
   "cell_type": "markdown",
   "metadata": {},
   "source": [
    "В качестве исходных данных представлен массив, содержащий названия событий, ID устройств пользователей, которым соответствуют события, время совершения события, номер эксперимента. Исходные данные позволяют провести анализ в разрезе пользователей на основании ID устройств (т.е. в качестве одного пользователя принимается пользователь одного устройства).\n",
    "Всего 244126 записей. Явные пропуски отсутствуют."
   ]
  },
  {
   "cell_type": "markdown",
   "metadata": {},
   "source": [
    "В рамках предварительной обработки данных была проведена проверка исходного массива на предмет пропусков (не выявлены) и дублирования. Дублирующие строки (413 записей или 0,17% от всего массива) удалены. Данные о времени событий переведены из формата Unix в формат даты и времени; массив дополнен отдельным столбцом, содержащим дату события (без времени). Проведена проверка данных на предмет полноты распределения пользователей по экспериментальным группам и отсутствие фактов включения одних и тех же пользователей в разные группы экспериментов. Такие случаи не обнаружены."
   ]
  },
  {
   "cell_type": "markdown",
   "metadata": {},
   "source": [
    "В массиве данных представлены сведения о событиях, совершенных пользователями мобильного приложения с 25.07.2019 по 08.08.2019. Проведенный анализ показал, что количество событий распределено по дням крайне неравномерно, что позволяет предположить, что данные за 25.07-31.07 неполные. \n",
    "\n",
    "Для исключения влияния неполных данных на результаты анализа, информация за 25.07 - 31.07 была исключена из лога. Это привело к исключению 1,16% событий и 0,23% пользователей. Общее число событий, использованных для дальнейшего анализа, составило 240887. Общее число пользователей - 7534. В рамках лога приведены данные по пользователям всех трех групп. В среднем на одного пользователя приходится 31,97 событий.\n",
    "\n",
    "Как следует из результатов расчета, 98,47% пользователей открывали основной экран приложения. 60,96% пользователей открывали страницы со специальными предложениями. Почти половина пользователей (49,56%) открывала корзину (т.е. начинала формировать заказ), а успешно оплатили заказ 46,97% пользователей. Инструкциями воспользовались 11,15% пользователей мобильного приложения."
   ]
  },
  {
   "cell_type": "markdown",
   "metadata": {},
   "source": [
    "Исходя из данных о событиях в разрезе пользователей можно сформировать следующую воронку событий:\n",
    "\n",
    "1. Открытие основной страницы приложения\n",
    "2. Открытие страницы с предлагаемыми товарами\n",
    "3. Открытие корзины\n",
    "4. Отображение страницы с успешным платежом\n"
   ]
  },
  {
   "cell_type": "markdown",
   "metadata": {},
   "source": [
    "Анализ воронки событий показывает следующие результаты:\n",
    "  \n",
    "- 61,91% пользователей, открывших главную страницу, дошли до страниц с предложениями товаров;\n",
    "- 81,30% пользователей, открывших страницу с предложениями товаров, открыли корзину;\n",
    "- 94,78% пользователей, открывших корзину, успешно ее оплатили.\n",
    "- 47,7% пользователей, открывших приложение, успешно оплатили товары."
   ]
  },
  {
   "cell_type": "markdown",
   "metadata": {},
   "source": [
    "Расчет конверсии по этапам воронки событий показывает, что наибольшее число пользователей (38,8%), открывших приложение, теряется на этапе между открытием основного экрана и переходом на страницы с конкретными предложениями товаров. Можно предположить, что навигация на главной странице не очень удобна."
   ]
  },
  {
   "cell_type": "markdown",
   "metadata": {},
   "source": [
    "Для анализа результата эксперимента с внедрением новых шрифтов использовался статистический z-тест, позволяющий подтвердить либо отвергнуть гипотезу о равенстве долей в выборках.\n",
    "\n",
    "В массиве изначально выделены 2 контрольные группы 246 и 247. Результаты проверки показывают, что по ни по одному из 5 показателей различий между группами не обнаружено.\n",
    "\n",
    "**Таким образом, статистические тесты не выявили значимых существенных различий между двумя контрольными группами пользователей. Это позволяет сопоставить результаты экспериментальной группы 248 с результатами контрольных групп 246 и 247.**"
   ]
  },
  {
   "cell_type": "markdown",
   "metadata": {},
   "source": [
    "В рамках анализа доля пользователей, достигших каждого этапа воронки событий в экспериментальной группе 248, была сопоставлена с долей пользователей, достигших аналогичного этапа в контрольных группах 246 и 247.\n",
    "\n",
    "По результатам статистического теста значимых различий между выборками 247 и 248, а также между выборками 246 и 248 не выявлено.\n",
    "\n",
    "Отметим, что для анализа был выбран уровень статистической значимости, равный 0,05%. С учетом многократного сопоставления групп между собой для оценки AB-теста целесообразно применять поправку Бонферрони, что снизит уровень статистической значимости до 0,004%.\n"
   ]
  },
  {
   "cell_type": "markdown",
   "metadata": {},
   "source": [
    "Изменение шрифтов в приложении не привело к повышению конверсии пользователей. \n",
    "\n",
    "**На основе проведенного анализа не рекомендуется внедрять новые шрифты для всех пользователей приложения**."
   ]
  }
 ],
 "metadata": {
  "ExecuteTimeLog": [
   {
    "duration": 49,
    "start_time": "2022-11-22T19:14:50.669Z"
   },
   {
    "duration": 437,
    "start_time": "2022-11-22T19:14:55.247Z"
   },
   {
    "duration": 777,
    "start_time": "2022-11-22T19:14:57.314Z"
   },
   {
    "duration": 195,
    "start_time": "2022-11-22T19:15:37.868Z"
   },
   {
    "duration": 224,
    "start_time": "2022-11-22T19:18:33.960Z"
   },
   {
    "duration": 26,
    "start_time": "2022-11-22T19:23:36.463Z"
   },
   {
    "duration": 21,
    "start_time": "2022-11-22T19:27:21.988Z"
   },
   {
    "duration": 17,
    "start_time": "2022-11-22T19:27:32.070Z"
   },
   {
    "duration": 14,
    "start_time": "2022-11-22T19:27:46.106Z"
   },
   {
    "duration": 58,
    "start_time": "2022-11-22T19:29:24.178Z"
   },
   {
    "duration": 144,
    "start_time": "2022-11-22T19:31:52.828Z"
   },
   {
    "duration": 4,
    "start_time": "2022-11-22T19:32:21.896Z"
   },
   {
    "duration": 131,
    "start_time": "2022-11-22T19:32:38.384Z"
   },
   {
    "duration": 86,
    "start_time": "2022-11-22T19:33:51.517Z"
   },
   {
    "duration": 744,
    "start_time": "2022-11-22T19:38:05.950Z"
   },
   {
    "duration": 27,
    "start_time": "2022-11-22T19:40:22.626Z"
   },
   {
    "duration": 90,
    "start_time": "2022-11-22T19:41:21.787Z"
   },
   {
    "duration": 70,
    "start_time": "2022-11-22T19:44:24.919Z"
   },
   {
    "duration": 70,
    "start_time": "2022-11-22T19:44:55.533Z"
   },
   {
    "duration": 85,
    "start_time": "2022-11-22T19:47:17.298Z"
   },
   {
    "duration": 128,
    "start_time": "2022-11-22T19:47:35.559Z"
   },
   {
    "duration": 104,
    "start_time": "2022-11-22T19:47:44.523Z"
   },
   {
    "duration": 7,
    "start_time": "2022-11-22T19:48:51.822Z"
   },
   {
    "duration": 19,
    "start_time": "2022-11-22T19:49:07.197Z"
   },
   {
    "duration": 12,
    "start_time": "2022-11-22T19:52:59.872Z"
   },
   {
    "duration": 10,
    "start_time": "2022-11-22T19:53:13.262Z"
   },
   {
    "duration": 58,
    "start_time": "2022-11-22T20:01:27.065Z"
   },
   {
    "duration": 17,
    "start_time": "2022-11-22T20:07:02.263Z"
   },
   {
    "duration": 12,
    "start_time": "2022-11-22T20:07:33.277Z"
   },
   {
    "duration": 24,
    "start_time": "2022-11-22T20:08:10.816Z"
   },
   {
    "duration": 39,
    "start_time": "2022-11-22T20:08:15.718Z"
   },
   {
    "duration": 18,
    "start_time": "2022-11-22T20:09:55.859Z"
   },
   {
    "duration": 20,
    "start_time": "2022-11-22T20:10:21.623Z"
   },
   {
    "duration": 52,
    "start_time": "2022-11-22T20:12:08.155Z"
   },
   {
    "duration": 46,
    "start_time": "2022-11-24T14:07:34.841Z"
   },
   {
    "duration": 370,
    "start_time": "2022-11-24T14:07:42.066Z"
   },
   {
    "duration": 762,
    "start_time": "2022-11-24T14:07:42.438Z"
   },
   {
    "duration": 23,
    "start_time": "2022-11-24T14:07:43.202Z"
   },
   {
    "duration": 13,
    "start_time": "2022-11-24T14:07:43.227Z"
   },
   {
    "duration": 132,
    "start_time": "2022-11-24T14:07:43.242Z"
   },
   {
    "duration": 83,
    "start_time": "2022-11-24T14:07:43.376Z"
   },
   {
    "duration": 43,
    "start_time": "2022-11-24T14:07:43.461Z"
   },
   {
    "duration": 123,
    "start_time": "2022-11-24T14:07:43.506Z"
   },
   {
    "duration": 17,
    "start_time": "2022-11-24T14:07:43.631Z"
   },
   {
    "duration": 18,
    "start_time": "2022-11-24T14:07:43.650Z"
   },
   {
    "duration": 68,
    "start_time": "2022-11-24T14:07:43.670Z"
   },
   {
    "duration": 5,
    "start_time": "2022-11-24T14:07:43.740Z"
   },
   {
    "duration": 7,
    "start_time": "2022-11-24T14:09:00.268Z"
   },
   {
    "duration": 15,
    "start_time": "2022-11-24T14:10:03.496Z"
   },
   {
    "duration": 66,
    "start_time": "2022-11-24T14:10:35.750Z"
   },
   {
    "duration": 8,
    "start_time": "2022-11-24T14:10:40.900Z"
   },
   {
    "duration": 15,
    "start_time": "2022-11-24T14:13:22.192Z"
   },
   {
    "duration": 29,
    "start_time": "2022-11-24T14:13:54.691Z"
   },
   {
    "duration": 65,
    "start_time": "2022-11-24T14:16:57.702Z"
   },
   {
    "duration": 795,
    "start_time": "2022-11-24T14:17:31.233Z"
   },
   {
    "duration": 264,
    "start_time": "2022-11-24T14:17:36.370Z"
   },
   {
    "duration": 18,
    "start_time": "2022-11-24T14:19:56.711Z"
   },
   {
    "duration": 117,
    "start_time": "2022-11-24T14:20:11.589Z"
   },
   {
    "duration": 238,
    "start_time": "2022-11-24T14:20:48.918Z"
   },
   {
    "duration": 1297,
    "start_time": "2022-11-24T14:26:17.412Z"
   },
   {
    "duration": 328,
    "start_time": "2022-11-24T14:26:43.549Z"
   },
   {
    "duration": 1626,
    "start_time": "2022-11-24T14:28:15.960Z"
   },
   {
    "duration": 351,
    "start_time": "2022-11-24T14:28:42.146Z"
   },
   {
    "duration": 339,
    "start_time": "2022-11-24T14:28:55.756Z"
   },
   {
    "duration": 273,
    "start_time": "2022-11-24T14:29:16.704Z"
   },
   {
    "duration": 4,
    "start_time": "2022-11-24T14:29:38.337Z"
   },
   {
    "duration": 438,
    "start_time": "2022-11-24T14:30:02.435Z"
   },
   {
    "duration": 307,
    "start_time": "2022-11-24T14:31:12.716Z"
   },
   {
    "duration": 39,
    "start_time": "2022-11-24T14:32:43.057Z"
   },
   {
    "duration": 26,
    "start_time": "2022-11-24T14:34:09.556Z"
   },
   {
    "duration": 31,
    "start_time": "2022-11-24T14:34:17.959Z"
   },
   {
    "duration": 34,
    "start_time": "2022-11-24T14:37:16.350Z"
   },
   {
    "duration": 44,
    "start_time": "2022-11-24T14:37:28.590Z"
   },
   {
    "duration": 19,
    "start_time": "2022-11-24T14:37:45.869Z"
   },
   {
    "duration": 23,
    "start_time": "2022-11-24T14:38:15.191Z"
   },
   {
    "duration": 17,
    "start_time": "2022-11-24T14:38:40.321Z"
   },
   {
    "duration": 9,
    "start_time": "2022-11-24T14:39:58.031Z"
   },
   {
    "duration": 19,
    "start_time": "2022-11-24T14:40:16.890Z"
   },
   {
    "duration": 23,
    "start_time": "2022-11-24T14:44:38.331Z"
   },
   {
    "duration": 14,
    "start_time": "2022-11-24T14:47:15.632Z"
   },
   {
    "duration": 1148,
    "start_time": "2022-11-24T14:47:41.324Z"
   },
   {
    "duration": 283,
    "start_time": "2022-11-24T14:47:42.474Z"
   },
   {
    "duration": 26,
    "start_time": "2022-11-24T14:47:42.758Z"
   },
   {
    "duration": 33,
    "start_time": "2022-11-24T14:47:42.786Z"
   },
   {
    "duration": 147,
    "start_time": "2022-11-24T14:47:42.821Z"
   },
   {
    "duration": 88,
    "start_time": "2022-11-24T14:47:42.970Z"
   },
   {
    "duration": 44,
    "start_time": "2022-11-24T14:47:43.061Z"
   },
   {
    "duration": 120,
    "start_time": "2022-11-24T14:47:43.107Z"
   },
   {
    "duration": 18,
    "start_time": "2022-11-24T14:47:43.229Z"
   },
   {
    "duration": 19,
    "start_time": "2022-11-24T14:47:43.249Z"
   },
   {
    "duration": 73,
    "start_time": "2022-11-24T14:47:43.270Z"
   },
   {
    "duration": 8,
    "start_time": "2022-11-24T14:47:43.345Z"
   },
   {
    "duration": 34,
    "start_time": "2022-11-24T14:47:43.354Z"
   },
   {
    "duration": 295,
    "start_time": "2022-11-24T14:47:43.411Z"
   },
   {
    "duration": 389,
    "start_time": "2022-11-24T14:47:43.708Z"
   },
   {
    "duration": 0,
    "start_time": "2022-11-24T14:47:44.099Z"
   },
   {
    "duration": 66,
    "start_time": "2022-11-24T14:49:02.572Z"
   },
   {
    "duration": 1080,
    "start_time": "2022-11-24T14:49:26.281Z"
   },
   {
    "duration": 321,
    "start_time": "2022-11-24T14:49:27.364Z"
   },
   {
    "duration": 41,
    "start_time": "2022-11-24T14:49:27.687Z"
   },
   {
    "duration": 16,
    "start_time": "2022-11-24T14:49:27.731Z"
   },
   {
    "duration": 144,
    "start_time": "2022-11-24T14:49:27.749Z"
   },
   {
    "duration": 93,
    "start_time": "2022-11-24T14:49:27.894Z"
   },
   {
    "duration": 54,
    "start_time": "2022-11-24T14:49:27.988Z"
   },
   {
    "duration": 106,
    "start_time": "2022-11-24T14:49:28.044Z"
   },
   {
    "duration": 19,
    "start_time": "2022-11-24T14:49:28.152Z"
   },
   {
    "duration": 45,
    "start_time": "2022-11-24T14:49:28.174Z"
   },
   {
    "duration": 88,
    "start_time": "2022-11-24T14:49:28.220Z"
   },
   {
    "duration": 12,
    "start_time": "2022-11-24T14:49:28.311Z"
   },
   {
    "duration": 44,
    "start_time": "2022-11-24T14:49:28.325Z"
   },
   {
    "duration": 326,
    "start_time": "2022-11-24T14:49:28.371Z"
   },
   {
    "duration": 63,
    "start_time": "2022-11-24T14:49:28.700Z"
   },
   {
    "duration": 41,
    "start_time": "2022-11-24T14:49:28.765Z"
   },
   {
    "duration": 21,
    "start_time": "2022-11-24T14:52:19.381Z"
   },
   {
    "duration": 38,
    "start_time": "2022-11-24T14:55:44.602Z"
   },
   {
    "duration": 94,
    "start_time": "2022-11-24T15:04:23.303Z"
   },
   {
    "duration": 21,
    "start_time": "2022-11-24T15:05:18.147Z"
   },
   {
    "duration": 77,
    "start_time": "2022-11-24T15:25:14.679Z"
   },
   {
    "duration": 133,
    "start_time": "2022-11-24T15:27:29.421Z"
   },
   {
    "duration": 53,
    "start_time": "2022-11-24T15:27:50.784Z"
   },
   {
    "duration": 50,
    "start_time": "2022-11-24T15:28:05.741Z"
   },
   {
    "duration": 65,
    "start_time": "2022-11-24T15:28:55.102Z"
   },
   {
    "duration": 82,
    "start_time": "2022-11-24T15:29:21.849Z"
   },
   {
    "duration": 48,
    "start_time": "2022-11-24T15:29:42.290Z"
   },
   {
    "duration": 347,
    "start_time": "2022-11-24T15:32:41.252Z"
   },
   {
    "duration": 67,
    "start_time": "2022-11-24T15:33:07.344Z"
   },
   {
    "duration": 3,
    "start_time": "2022-11-24T15:42:03.445Z"
   },
   {
    "duration": 3,
    "start_time": "2022-11-24T15:42:10.798Z"
   },
   {
    "duration": 4,
    "start_time": "2022-11-24T15:42:18.156Z"
   },
   {
    "duration": 4,
    "start_time": "2022-11-24T15:43:58.818Z"
   },
   {
    "duration": 5,
    "start_time": "2022-11-24T15:45:00.949Z"
   },
   {
    "duration": 6,
    "start_time": "2022-11-24T15:45:47.768Z"
   },
   {
    "duration": 5,
    "start_time": "2022-11-24T15:48:05.506Z"
   },
   {
    "duration": 5,
    "start_time": "2022-11-24T15:48:14.247Z"
   },
   {
    "duration": 65,
    "start_time": "2022-11-24T18:05:33.121Z"
   },
   {
    "duration": 64,
    "start_time": "2022-11-24T18:06:13.676Z"
   },
   {
    "duration": 67,
    "start_time": "2022-11-24T18:06:30.291Z"
   },
   {
    "duration": 70,
    "start_time": "2022-11-24T18:06:42.775Z"
   },
   {
    "duration": 42,
    "start_time": "2022-11-24T18:07:19.374Z"
   },
   {
    "duration": 64,
    "start_time": "2022-11-24T18:08:34.252Z"
   },
   {
    "duration": 39,
    "start_time": "2022-11-24T18:08:50.886Z"
   },
   {
    "duration": 4,
    "start_time": "2022-11-24T18:13:27.284Z"
   },
   {
    "duration": 74,
    "start_time": "2022-11-24T18:13:44.554Z"
   },
   {
    "duration": 157,
    "start_time": "2022-11-24T18:14:18.734Z"
   },
   {
    "duration": 169,
    "start_time": "2022-11-24T18:14:34.248Z"
   },
   {
    "duration": 12,
    "start_time": "2022-11-24T18:23:05.815Z"
   },
   {
    "duration": 1068,
    "start_time": "2022-11-24T18:23:27.065Z"
   },
   {
    "duration": 251,
    "start_time": "2022-11-24T18:23:28.135Z"
   },
   {
    "duration": 32,
    "start_time": "2022-11-24T18:23:28.388Z"
   },
   {
    "duration": 15,
    "start_time": "2022-11-24T18:23:28.422Z"
   },
   {
    "duration": 155,
    "start_time": "2022-11-24T18:23:28.438Z"
   },
   {
    "duration": 85,
    "start_time": "2022-11-24T18:23:28.595Z"
   },
   {
    "duration": 48,
    "start_time": "2022-11-24T18:23:28.682Z"
   },
   {
    "duration": 93,
    "start_time": "2022-11-24T18:23:28.732Z"
   },
   {
    "duration": 18,
    "start_time": "2022-11-24T18:23:28.827Z"
   },
   {
    "duration": 18,
    "start_time": "2022-11-24T18:23:28.848Z"
   },
   {
    "duration": 65,
    "start_time": "2022-11-24T18:23:28.868Z"
   },
   {
    "duration": 9,
    "start_time": "2022-11-24T18:23:28.935Z"
   },
   {
    "duration": 28,
    "start_time": "2022-11-24T18:23:28.946Z"
   },
   {
    "duration": 287,
    "start_time": "2022-11-24T18:23:28.976Z"
   },
   {
    "duration": 60,
    "start_time": "2022-11-24T18:23:29.265Z"
   },
   {
    "duration": 25,
    "start_time": "2022-11-24T18:23:29.327Z"
   },
   {
    "duration": 19,
    "start_time": "2022-11-24T18:23:29.353Z"
   },
   {
    "duration": 83,
    "start_time": "2022-11-24T18:23:29.373Z"
   },
   {
    "duration": 4,
    "start_time": "2022-11-24T18:23:29.457Z"
   },
   {
    "duration": 176,
    "start_time": "2022-11-24T18:23:29.463Z"
   },
   {
    "duration": 108,
    "start_time": "2022-11-24T18:23:29.641Z"
   },
   {
    "duration": 3,
    "start_time": "2022-11-24T18:24:28.052Z"
   },
   {
    "duration": 11,
    "start_time": "2022-11-24T18:24:34.646Z"
   },
   {
    "duration": 3,
    "start_time": "2022-11-24T18:25:32.450Z"
   },
   {
    "duration": 12,
    "start_time": "2022-11-24T18:25:38.070Z"
   },
   {
    "duration": 3,
    "start_time": "2022-11-24T18:26:47.523Z"
   },
   {
    "duration": 10,
    "start_time": "2022-11-24T18:26:55.492Z"
   },
   {
    "duration": 3,
    "start_time": "2022-11-24T18:28:56.621Z"
   },
   {
    "duration": 7,
    "start_time": "2022-11-24T18:29:04.168Z"
   },
   {
    "duration": 4,
    "start_time": "2022-11-24T18:38:51.645Z"
   },
   {
    "duration": 4,
    "start_time": "2022-11-24T18:39:08.406Z"
   },
   {
    "duration": 4,
    "start_time": "2022-11-24T18:39:16.840Z"
   },
   {
    "duration": 74,
    "start_time": "2022-11-24T18:46:40.604Z"
   },
   {
    "duration": 4,
    "start_time": "2022-11-24T18:46:54.906Z"
   },
   {
    "duration": 167,
    "start_time": "2022-11-24T18:49:12.325Z"
   },
   {
    "duration": 171,
    "start_time": "2022-11-24T18:50:01.077Z"
   },
   {
    "duration": 1288,
    "start_time": "2022-11-24T18:50:48.635Z"
   },
   {
    "duration": 225,
    "start_time": "2022-11-24T18:51:07.281Z"
   },
   {
    "duration": 179,
    "start_time": "2022-11-24T18:52:07.886Z"
   },
   {
    "duration": 178,
    "start_time": "2022-11-24T18:52:18.883Z"
   },
   {
    "duration": 19,
    "start_time": "2022-11-24T18:53:10.855Z"
   },
   {
    "duration": 12,
    "start_time": "2022-11-24T18:56:00.601Z"
   },
   {
    "duration": 5,
    "start_time": "2022-11-24T18:56:22.470Z"
   },
   {
    "duration": 6,
    "start_time": "2022-11-24T18:56:27.825Z"
   },
   {
    "duration": 5,
    "start_time": "2022-11-24T18:57:38.512Z"
   },
   {
    "duration": 5,
    "start_time": "2022-11-24T18:57:44.219Z"
   },
   {
    "duration": 7,
    "start_time": "2022-11-24T18:59:29.478Z"
   },
   {
    "duration": 8,
    "start_time": "2022-11-24T19:00:19.605Z"
   },
   {
    "duration": 9,
    "start_time": "2022-11-24T19:01:43.835Z"
   },
   {
    "duration": 9,
    "start_time": "2022-11-24T19:15:20.226Z"
   },
   {
    "duration": 14,
    "start_time": "2022-11-24T19:24:13.706Z"
   },
   {
    "duration": 1147,
    "start_time": "2022-11-24T19:24:40.773Z"
   },
   {
    "duration": 12,
    "start_time": "2022-11-24T19:25:23.957Z"
   },
   {
    "duration": 11,
    "start_time": "2022-11-24T19:25:44.165Z"
   },
   {
    "duration": 11,
    "start_time": "2022-11-24T19:25:56.641Z"
   },
   {
    "duration": 19,
    "start_time": "2022-11-24T19:26:45.042Z"
   },
   {
    "duration": 4,
    "start_time": "2022-11-24T19:27:53.677Z"
   },
   {
    "duration": 13,
    "start_time": "2022-11-24T19:28:05.895Z"
   },
   {
    "duration": 16,
    "start_time": "2022-11-24T19:29:39.585Z"
   },
   {
    "duration": 10,
    "start_time": "2022-11-24T19:30:46.533Z"
   },
   {
    "duration": 4,
    "start_time": "2022-11-24T19:31:01.230Z"
   },
   {
    "duration": 10,
    "start_time": "2022-11-24T19:31:05.888Z"
   },
   {
    "duration": 9,
    "start_time": "2022-11-24T19:35:24.342Z"
   },
   {
    "duration": 9,
    "start_time": "2022-11-24T19:39:46.908Z"
   },
   {
    "duration": 10,
    "start_time": "2022-11-24T19:41:41.573Z"
   },
   {
    "duration": 9,
    "start_time": "2022-11-24T19:43:12.200Z"
   },
   {
    "duration": 74,
    "start_time": "2022-11-24T19:48:08.872Z"
   },
   {
    "duration": 1022,
    "start_time": "2022-11-24T19:59:28.337Z"
   },
   {
    "duration": 182,
    "start_time": "2022-11-24T19:59:29.361Z"
   },
   {
    "duration": 23,
    "start_time": "2022-11-24T19:59:29.544Z"
   },
   {
    "duration": 13,
    "start_time": "2022-11-24T19:59:29.569Z"
   },
   {
    "duration": 145,
    "start_time": "2022-11-24T19:59:29.584Z"
   },
   {
    "duration": 83,
    "start_time": "2022-11-24T19:59:29.730Z"
   },
   {
    "duration": 27,
    "start_time": "2022-11-24T19:59:29.815Z"
   },
   {
    "duration": 93,
    "start_time": "2022-11-24T19:59:29.844Z"
   },
   {
    "duration": 21,
    "start_time": "2022-11-24T19:59:29.939Z"
   },
   {
    "duration": 19,
    "start_time": "2022-11-24T19:59:29.963Z"
   },
   {
    "duration": 65,
    "start_time": "2022-11-24T19:59:29.983Z"
   },
   {
    "duration": 9,
    "start_time": "2022-11-24T19:59:30.050Z"
   },
   {
    "duration": 45,
    "start_time": "2022-11-24T19:59:30.061Z"
   },
   {
    "duration": 285,
    "start_time": "2022-11-24T19:59:30.107Z"
   },
   {
    "duration": 59,
    "start_time": "2022-11-24T19:59:30.393Z"
   },
   {
    "duration": 26,
    "start_time": "2022-11-24T19:59:30.454Z"
   },
   {
    "duration": 42,
    "start_time": "2022-11-24T19:59:30.482Z"
   },
   {
    "duration": 79,
    "start_time": "2022-11-24T19:59:30.526Z"
   },
   {
    "duration": 5,
    "start_time": "2022-11-24T19:59:30.607Z"
   },
   {
    "duration": 175,
    "start_time": "2022-11-24T19:59:30.614Z"
   },
   {
    "duration": 4,
    "start_time": "2022-11-24T19:59:30.791Z"
   },
   {
    "duration": 8,
    "start_time": "2022-11-24T19:59:30.804Z"
   },
   {
    "duration": 24,
    "start_time": "2022-11-24T19:59:30.813Z"
   },
   {
    "duration": 45,
    "start_time": "2022-11-24T19:59:30.838Z"
   },
   {
    "duration": 26,
    "start_time": "2022-11-24T19:59:30.885Z"
   },
   {
    "duration": 34,
    "start_time": "2022-11-24T19:59:30.913Z"
   },
   {
    "duration": 22,
    "start_time": "2022-11-24T19:59:30.949Z"
   },
   {
    "duration": 1037,
    "start_time": "2022-11-24T20:53:39.801Z"
   },
   {
    "duration": 654,
    "start_time": "2022-11-24T20:53:40.840Z"
   },
   {
    "duration": 27,
    "start_time": "2022-11-24T20:53:41.496Z"
   },
   {
    "duration": 16,
    "start_time": "2022-11-24T20:53:41.526Z"
   },
   {
    "duration": 150,
    "start_time": "2022-11-24T20:53:41.543Z"
   },
   {
    "duration": 87,
    "start_time": "2022-11-24T20:53:41.695Z"
   },
   {
    "duration": 35,
    "start_time": "2022-11-24T20:53:41.784Z"
   },
   {
    "duration": 99,
    "start_time": "2022-11-24T20:53:41.821Z"
   },
   {
    "duration": 17,
    "start_time": "2022-11-24T20:53:41.922Z"
   },
   {
    "duration": 19,
    "start_time": "2022-11-24T20:53:41.954Z"
   },
   {
    "duration": 44,
    "start_time": "2022-11-24T20:53:41.974Z"
   },
   {
    "duration": 10,
    "start_time": "2022-11-24T20:53:42.020Z"
   },
   {
    "duration": 31,
    "start_time": "2022-11-24T20:53:42.055Z"
   },
   {
    "duration": 301,
    "start_time": "2022-11-24T20:53:42.088Z"
   },
   {
    "duration": 66,
    "start_time": "2022-11-24T20:53:42.391Z"
   },
   {
    "duration": 29,
    "start_time": "2022-11-24T20:53:42.459Z"
   },
   {
    "duration": 22,
    "start_time": "2022-11-24T20:53:42.490Z"
   },
   {
    "duration": 95,
    "start_time": "2022-11-24T20:53:42.513Z"
   },
   {
    "duration": 5,
    "start_time": "2022-11-24T20:53:42.609Z"
   },
   {
    "duration": 194,
    "start_time": "2022-11-24T20:53:42.615Z"
   },
   {
    "duration": 5,
    "start_time": "2022-11-24T20:53:42.811Z"
   },
   {
    "duration": 8,
    "start_time": "2022-11-24T20:53:42.819Z"
   },
   {
    "duration": 26,
    "start_time": "2022-11-24T20:53:42.829Z"
   },
   {
    "duration": 72,
    "start_time": "2022-11-24T20:53:42.857Z"
   },
   {
    "duration": 11,
    "start_time": "2022-11-24T20:53:42.930Z"
   },
   {
    "duration": 13,
    "start_time": "2022-11-24T20:53:42.943Z"
   },
   {
    "duration": 12,
    "start_time": "2022-11-24T20:53:42.958Z"
   },
   {
    "duration": 5,
    "start_time": "2022-11-24T20:55:22.240Z"
   },
   {
    "duration": 14,
    "start_time": "2022-11-24T21:03:20.531Z"
   },
   {
    "duration": 666,
    "start_time": "2022-11-24T21:03:24.542Z"
   },
   {
    "duration": 48,
    "start_time": "2022-11-25T07:07:56.489Z"
   },
   {
    "duration": 1343,
    "start_time": "2022-11-25T07:08:27.028Z"
   },
   {
    "duration": 693,
    "start_time": "2022-11-25T07:08:32.942Z"
   },
   {
    "duration": 24,
    "start_time": "2022-11-25T07:08:40.417Z"
   },
   {
    "duration": 16,
    "start_time": "2022-11-25T07:08:45.910Z"
   },
   {
    "duration": 116,
    "start_time": "2022-11-25T07:08:50.480Z"
   },
   {
    "duration": 80,
    "start_time": "2022-11-25T07:08:53.115Z"
   },
   {
    "duration": 1149,
    "start_time": "2022-11-25T07:14:51.010Z"
   },
   {
    "duration": 224,
    "start_time": "2022-11-25T07:14:52.161Z"
   },
   {
    "duration": 38,
    "start_time": "2022-11-25T07:14:52.387Z"
   },
   {
    "duration": 18,
    "start_time": "2022-11-25T07:14:52.427Z"
   },
   {
    "duration": 161,
    "start_time": "2022-11-25T07:14:52.448Z"
   },
   {
    "duration": 102,
    "start_time": "2022-11-25T07:14:52.611Z"
   },
   {
    "duration": 39,
    "start_time": "2022-11-25T07:14:52.715Z"
   },
   {
    "duration": 96,
    "start_time": "2022-11-25T07:14:52.756Z"
   },
   {
    "duration": 19,
    "start_time": "2022-11-25T07:14:52.854Z"
   },
   {
    "duration": 36,
    "start_time": "2022-11-25T07:14:52.875Z"
   },
   {
    "duration": 51,
    "start_time": "2022-11-25T07:14:52.913Z"
   },
   {
    "duration": 8,
    "start_time": "2022-11-25T07:14:52.966Z"
   },
   {
    "duration": 57,
    "start_time": "2022-11-25T07:14:52.976Z"
   },
   {
    "duration": 316,
    "start_time": "2022-11-25T07:14:53.036Z"
   },
   {
    "duration": 633,
    "start_time": "2022-11-25T07:14:53.354Z"
   },
   {
    "duration": 68,
    "start_time": "2022-11-25T07:14:53.988Z"
   },
   {
    "duration": 26,
    "start_time": "2022-11-25T07:14:54.058Z"
   },
   {
    "duration": 33,
    "start_time": "2022-11-25T07:14:54.086Z"
   },
   {
    "duration": 86,
    "start_time": "2022-11-25T07:14:54.121Z"
   },
   {
    "duration": 5,
    "start_time": "2022-11-25T07:14:54.208Z"
   },
   {
    "duration": 185,
    "start_time": "2022-11-25T07:14:54.215Z"
   },
   {
    "duration": 4,
    "start_time": "2022-11-25T07:14:54.401Z"
   },
   {
    "duration": 26,
    "start_time": "2022-11-25T07:14:54.407Z"
   },
   {
    "duration": 29,
    "start_time": "2022-11-25T07:14:54.435Z"
   },
   {
    "duration": 49,
    "start_time": "2022-11-25T07:14:54.466Z"
   },
   {
    "duration": 25,
    "start_time": "2022-11-25T07:14:54.517Z"
   },
   {
    "duration": 33,
    "start_time": "2022-11-25T07:14:54.544Z"
   },
   {
    "duration": 25,
    "start_time": "2022-11-25T07:14:54.578Z"
   },
   {
    "duration": 45,
    "start_time": "2022-11-25T07:30:25.183Z"
   },
   {
    "duration": 29,
    "start_time": "2022-11-25T07:31:04.770Z"
   },
   {
    "duration": 37,
    "start_time": "2022-11-25T07:32:37.272Z"
   },
   {
    "duration": 26,
    "start_time": "2022-11-25T07:34:00.604Z"
   },
   {
    "duration": 76,
    "start_time": "2022-11-25T07:34:49.645Z"
   },
   {
    "duration": 1284,
    "start_time": "2022-11-25T07:53:09.887Z"
   },
   {
    "duration": 1200,
    "start_time": "2022-11-25T07:55:22.334Z"
   },
   {
    "duration": 1163,
    "start_time": "2022-11-25T07:57:34.505Z"
   },
   {
    "duration": 1184,
    "start_time": "2022-11-25T07:59:03.808Z"
   },
   {
    "duration": 1161,
    "start_time": "2022-11-25T07:59:20.252Z"
   },
   {
    "duration": 1223,
    "start_time": "2022-11-25T08:01:56.968Z"
   },
   {
    "duration": 7,
    "start_time": "2022-11-25T08:02:15.226Z"
   },
   {
    "duration": 5,
    "start_time": "2022-11-25T08:02:27.762Z"
   },
   {
    "duration": 1127,
    "start_time": "2022-11-25T08:02:47.711Z"
   },
   {
    "duration": 1289,
    "start_time": "2022-11-25T08:03:15.307Z"
   },
   {
    "duration": 9,
    "start_time": "2022-11-25T08:04:12.969Z"
   },
   {
    "duration": 12,
    "start_time": "2022-11-25T08:24:35.034Z"
   },
   {
    "duration": 7,
    "start_time": "2022-11-25T08:37:22.078Z"
   },
   {
    "duration": 5,
    "start_time": "2022-11-25T08:38:19.006Z"
   },
   {
    "duration": 9,
    "start_time": "2022-11-25T08:38:35.000Z"
   },
   {
    "duration": 8,
    "start_time": "2022-11-25T08:38:52.449Z"
   },
   {
    "duration": 8,
    "start_time": "2022-11-25T08:39:16.324Z"
   },
   {
    "duration": 7,
    "start_time": "2022-11-25T08:40:23.793Z"
   },
   {
    "duration": 5,
    "start_time": "2022-11-25T08:40:54.802Z"
   },
   {
    "duration": 11,
    "start_time": "2022-11-25T08:45:50.434Z"
   },
   {
    "duration": 1090,
    "start_time": "2022-11-25T08:46:12.880Z"
   },
   {
    "duration": 195,
    "start_time": "2022-11-25T08:46:13.973Z"
   },
   {
    "duration": 50,
    "start_time": "2022-11-25T08:46:14.170Z"
   },
   {
    "duration": 16,
    "start_time": "2022-11-25T08:46:14.223Z"
   },
   {
    "duration": 150,
    "start_time": "2022-11-25T08:46:14.240Z"
   },
   {
    "duration": 85,
    "start_time": "2022-11-25T08:46:14.392Z"
   },
   {
    "duration": 44,
    "start_time": "2022-11-25T08:46:14.479Z"
   },
   {
    "duration": 97,
    "start_time": "2022-11-25T08:46:14.526Z"
   },
   {
    "duration": 19,
    "start_time": "2022-11-25T08:46:14.625Z"
   },
   {
    "duration": 20,
    "start_time": "2022-11-25T08:46:14.647Z"
   },
   {
    "duration": 74,
    "start_time": "2022-11-25T08:46:14.668Z"
   },
   {
    "duration": 11,
    "start_time": "2022-11-25T08:46:14.744Z"
   },
   {
    "duration": 47,
    "start_time": "2022-11-25T08:46:14.757Z"
   },
   {
    "duration": 298,
    "start_time": "2022-11-25T08:46:14.806Z"
   },
   {
    "duration": 623,
    "start_time": "2022-11-25T08:46:15.106Z"
   },
   {
    "duration": 81,
    "start_time": "2022-11-25T08:46:15.731Z"
   },
   {
    "duration": 38,
    "start_time": "2022-11-25T08:46:15.814Z"
   },
   {
    "duration": 24,
    "start_time": "2022-11-25T08:46:15.853Z"
   },
   {
    "duration": 93,
    "start_time": "2022-11-25T08:46:15.879Z"
   },
   {
    "duration": 12,
    "start_time": "2022-11-25T08:46:15.974Z"
   },
   {
    "duration": 245,
    "start_time": "2022-11-25T08:46:16.004Z"
   },
   {
    "duration": 5,
    "start_time": "2022-11-25T08:46:16.251Z"
   },
   {
    "duration": 10,
    "start_time": "2022-11-25T08:46:16.258Z"
   },
   {
    "duration": 13,
    "start_time": "2022-11-25T08:46:16.269Z"
   },
   {
    "duration": 29,
    "start_time": "2022-11-25T08:46:16.283Z"
   },
   {
    "duration": 15,
    "start_time": "2022-11-25T08:46:16.313Z"
   },
   {
    "duration": 17,
    "start_time": "2022-11-25T08:46:16.329Z"
   },
   {
    "duration": 14,
    "start_time": "2022-11-25T08:46:16.351Z"
   },
   {
    "duration": 13,
    "start_time": "2022-11-25T08:48:42.687Z"
   },
   {
    "duration": 11,
    "start_time": "2022-11-25T08:52:04.441Z"
   },
   {
    "duration": 15,
    "start_time": "2022-11-25T08:53:44.062Z"
   },
   {
    "duration": 13,
    "start_time": "2022-11-25T08:56:25.568Z"
   },
   {
    "duration": 12,
    "start_time": "2022-11-25T08:58:05.038Z"
   },
   {
    "duration": 2,
    "start_time": "2022-11-25T09:15:47.708Z"
   },
   {
    "duration": 3,
    "start_time": "2022-11-25T09:16:17.836Z"
   },
   {
    "duration": 3,
    "start_time": "2022-11-25T09:17:33.948Z"
   },
   {
    "duration": 12,
    "start_time": "2022-11-25T09:17:45.369Z"
   },
   {
    "duration": 4,
    "start_time": "2022-11-25T09:18:21.907Z"
   },
   {
    "duration": 18,
    "start_time": "2022-11-25T09:19:04.708Z"
   },
   {
    "duration": 11,
    "start_time": "2022-11-25T09:20:05.574Z"
   },
   {
    "duration": 1156,
    "start_time": "2022-11-25T09:27:48.627Z"
   },
   {
    "duration": 196,
    "start_time": "2022-11-25T09:27:49.785Z"
   },
   {
    "duration": 39,
    "start_time": "2022-11-25T09:27:49.983Z"
   },
   {
    "duration": 17,
    "start_time": "2022-11-25T09:27:50.026Z"
   },
   {
    "duration": 169,
    "start_time": "2022-11-25T09:27:50.044Z"
   },
   {
    "duration": 91,
    "start_time": "2022-11-25T09:27:50.217Z"
   },
   {
    "duration": 34,
    "start_time": "2022-11-25T09:27:50.311Z"
   },
   {
    "duration": 96,
    "start_time": "2022-11-25T09:27:50.347Z"
   },
   {
    "duration": 17,
    "start_time": "2022-11-25T09:27:50.445Z"
   },
   {
    "duration": 20,
    "start_time": "2022-11-25T09:27:50.464Z"
   },
   {
    "duration": 52,
    "start_time": "2022-11-25T09:27:50.504Z"
   },
   {
    "duration": 8,
    "start_time": "2022-11-25T09:27:50.558Z"
   },
   {
    "duration": 64,
    "start_time": "2022-11-25T09:27:50.567Z"
   },
   {
    "duration": 272,
    "start_time": "2022-11-25T09:27:50.632Z"
   },
   {
    "duration": 586,
    "start_time": "2022-11-25T09:27:50.907Z"
   },
   {
    "duration": 77,
    "start_time": "2022-11-25T09:27:51.494Z"
   },
   {
    "duration": 42,
    "start_time": "2022-11-25T09:27:51.572Z"
   },
   {
    "duration": 24,
    "start_time": "2022-11-25T09:27:51.616Z"
   },
   {
    "duration": 81,
    "start_time": "2022-11-25T09:27:51.642Z"
   },
   {
    "duration": 11,
    "start_time": "2022-11-25T09:27:51.725Z"
   },
   {
    "duration": 230,
    "start_time": "2022-11-25T09:27:51.737Z"
   },
   {
    "duration": 4,
    "start_time": "2022-11-25T09:27:51.969Z"
   },
   {
    "duration": 20,
    "start_time": "2022-11-25T09:27:51.975Z"
   },
   {
    "duration": 17,
    "start_time": "2022-11-25T09:27:51.996Z"
   },
   {
    "duration": 31,
    "start_time": "2022-11-25T09:27:52.015Z"
   },
   {
    "duration": 36,
    "start_time": "2022-11-25T09:27:52.048Z"
   },
   {
    "duration": 27,
    "start_time": "2022-11-25T09:27:52.086Z"
   },
   {
    "duration": 18,
    "start_time": "2022-11-25T09:27:52.118Z"
   },
   {
    "duration": 23,
    "start_time": "2022-11-25T09:27:52.138Z"
   },
   {
    "duration": 14,
    "start_time": "2022-11-25T09:27:52.162Z"
   },
   {
    "duration": 8,
    "start_time": "2022-11-25T09:27:52.177Z"
   },
   {
    "duration": 18,
    "start_time": "2022-11-25T09:27:52.204Z"
   },
   {
    "duration": 102,
    "start_time": "2022-11-25T09:27:52.224Z"
   },
   {
    "duration": 31,
    "start_time": "2022-11-25T09:27:52.328Z"
   },
   {
    "duration": 1274,
    "start_time": "2022-11-25T18:28:06.324Z"
   },
   {
    "duration": 1090,
    "start_time": "2022-11-25T18:28:07.602Z"
   },
   {
    "duration": 33,
    "start_time": "2022-11-25T18:28:08.694Z"
   },
   {
    "duration": 20,
    "start_time": "2022-11-25T18:28:08.729Z"
   },
   {
    "duration": 210,
    "start_time": "2022-11-25T18:28:08.754Z"
   },
   {
    "duration": 122,
    "start_time": "2022-11-25T18:28:08.967Z"
   },
   {
    "duration": 62,
    "start_time": "2022-11-25T18:28:09.092Z"
   },
   {
    "duration": 111,
    "start_time": "2022-11-25T18:28:09.156Z"
   },
   {
    "duration": 29,
    "start_time": "2022-11-25T18:28:09.269Z"
   },
   {
    "duration": 49,
    "start_time": "2022-11-25T18:28:09.300Z"
   },
   {
    "duration": 88,
    "start_time": "2022-11-25T18:28:09.351Z"
   },
   {
    "duration": 12,
    "start_time": "2022-11-25T18:28:09.442Z"
   },
   {
    "duration": 69,
    "start_time": "2022-11-25T18:28:09.455Z"
   },
   {
    "duration": 423,
    "start_time": "2022-11-25T18:28:09.528Z"
   },
   {
    "duration": 700,
    "start_time": "2022-11-25T18:28:09.954Z"
   },
   {
    "duration": 96,
    "start_time": "2022-11-25T18:28:10.656Z"
   },
   {
    "duration": 30,
    "start_time": "2022-11-25T18:28:10.753Z"
   },
   {
    "duration": 45,
    "start_time": "2022-11-25T18:28:10.785Z"
   },
   {
    "duration": 105,
    "start_time": "2022-11-25T18:28:10.832Z"
   },
   {
    "duration": 17,
    "start_time": "2022-11-25T18:28:10.940Z"
   },
   {
    "duration": 293,
    "start_time": "2022-11-25T18:28:10.960Z"
   },
   {
    "duration": 5,
    "start_time": "2022-11-25T18:28:11.255Z"
   },
   {
    "duration": 12,
    "start_time": "2022-11-25T18:28:11.261Z"
   },
   {
    "duration": 15,
    "start_time": "2022-11-25T18:28:11.275Z"
   },
   {
    "duration": 39,
    "start_time": "2022-11-25T18:28:11.293Z"
   },
   {
    "duration": 22,
    "start_time": "2022-11-25T18:28:11.334Z"
   },
   {
    "duration": 18,
    "start_time": "2022-11-25T18:28:11.358Z"
   },
   {
    "duration": 41,
    "start_time": "2022-11-25T18:28:11.378Z"
   },
   {
    "duration": 26,
    "start_time": "2022-11-25T18:28:11.421Z"
   },
   {
    "duration": 16,
    "start_time": "2022-11-25T18:28:11.449Z"
   },
   {
    "duration": 11,
    "start_time": "2022-11-25T18:28:11.468Z"
   },
   {
    "duration": 21,
    "start_time": "2022-11-25T18:28:11.481Z"
   },
   {
    "duration": 27,
    "start_time": "2022-11-25T18:28:11.504Z"
   },
   {
    "duration": 13,
    "start_time": "2022-11-25T18:28:11.533Z"
   },
   {
    "duration": 17,
    "start_time": "2022-11-25T18:28:50.482Z"
   },
   {
    "duration": 40,
    "start_time": "2022-11-25T18:29:06.658Z"
   },
   {
    "duration": 5255,
    "start_time": "2023-01-26T21:01:47.737Z"
   },
   {
    "duration": 45,
    "start_time": "2023-01-26T21:09:16.454Z"
   },
   {
    "duration": 10,
    "start_time": "2023-01-26T21:11:04.745Z"
   },
   {
    "duration": 13,
    "start_time": "2023-01-26T21:13:15.134Z"
   },
   {
    "duration": 13,
    "start_time": "2023-01-26T21:14:44.531Z"
   },
   {
    "duration": 9,
    "start_time": "2023-01-26T21:16:18.562Z"
   },
   {
    "duration": 174,
    "start_time": "2023-01-26T21:22:23.091Z"
   },
   {
    "duration": 10,
    "start_time": "2023-01-26T21:23:31.619Z"
   },
   {
    "duration": 22,
    "start_time": "2023-01-26T21:33:41.620Z"
   },
   {
    "duration": 36,
    "start_time": "2023-01-26T21:34:41.043Z"
   },
   {
    "duration": 30,
    "start_time": "2023-01-26T21:35:16.966Z"
   },
   {
    "duration": 20,
    "start_time": "2023-01-26T21:35:38.890Z"
   },
   {
    "duration": 33,
    "start_time": "2023-01-26T21:38:01.277Z"
   },
   {
    "duration": 21,
    "start_time": "2023-01-26T21:38:59.063Z"
   },
   {
    "duration": 21,
    "start_time": "2023-01-27T13:13:02.290Z"
   },
   {
    "duration": 47,
    "start_time": "2023-01-27T13:13:28.625Z"
   },
   {
    "duration": 31,
    "start_time": "2023-01-27T13:14:04.330Z"
   },
   {
    "duration": 36,
    "start_time": "2023-01-27T13:14:13.309Z"
   },
   {
    "duration": 85,
    "start_time": "2023-01-27T13:14:33.935Z"
   },
   {
    "duration": 31,
    "start_time": "2023-01-27T13:14:46.894Z"
   },
   {
    "duration": 33,
    "start_time": "2023-01-27T13:15:10.225Z"
   },
   {
    "duration": 16,
    "start_time": "2023-01-27T13:15:45.210Z"
   },
   {
    "duration": 14,
    "start_time": "2023-01-27T13:16:07.179Z"
   },
   {
    "duration": 19,
    "start_time": "2023-01-27T13:16:18.649Z"
   },
   {
    "duration": 33,
    "start_time": "2023-01-27T13:16:37.808Z"
   },
   {
    "duration": 11,
    "start_time": "2023-01-27T13:16:55.637Z"
   },
   {
    "duration": 45,
    "start_time": "2023-01-27T13:18:15.623Z"
   },
   {
    "duration": 70,
    "start_time": "2023-01-27T13:22:22.749Z"
   },
   {
    "duration": 100,
    "start_time": "2023-01-27T13:23:07.057Z"
   },
   {
    "duration": 10,
    "start_time": "2023-01-27T13:23:47.224Z"
   },
   {
    "duration": 23,
    "start_time": "2023-01-27T13:24:28.707Z"
   },
   {
    "duration": 92,
    "start_time": "2023-01-27T13:44:26.780Z"
   },
   {
    "duration": 43,
    "start_time": "2023-01-27T13:45:06.907Z"
   },
   {
    "duration": 13,
    "start_time": "2023-01-27T13:45:15.728Z"
   },
   {
    "duration": 33,
    "start_time": "2023-01-27T13:45:23.305Z"
   },
   {
    "duration": 79,
    "start_time": "2023-01-27T13:51:48.846Z"
   },
   {
    "duration": 74,
    "start_time": "2023-01-27T13:52:00.871Z"
   },
   {
    "duration": 78,
    "start_time": "2023-01-27T13:52:08.887Z"
   },
   {
    "duration": 80,
    "start_time": "2023-01-27T13:52:17.485Z"
   },
   {
    "duration": 78,
    "start_time": "2023-01-27T13:52:29.869Z"
   },
   {
    "duration": 33,
    "start_time": "2023-01-27T13:58:59.165Z"
   },
   {
    "duration": 34,
    "start_time": "2023-01-27T13:59:26.540Z"
   },
   {
    "duration": 54,
    "start_time": "2023-01-27T13:59:34.577Z"
   },
   {
    "duration": 40,
    "start_time": "2023-01-27T13:59:44.451Z"
   }
  ],
  "kernelspec": {
   "display_name": "Python 3 (ipykernel)",
   "language": "python",
   "name": "python3"
  },
  "language_info": {
   "codemirror_mode": {
    "name": "ipython",
    "version": 3
   },
   "file_extension": ".py",
   "mimetype": "text/x-python",
   "name": "python",
   "nbconvert_exporter": "python",
   "pygments_lexer": "ipython3",
   "version": "3.9.12"
  },
  "toc": {
   "base_numbering": 1,
   "nav_menu": {},
   "number_sections": false,
   "sideBar": true,
   "skip_h1_title": false,
   "title_cell": "Table of Contents",
   "title_sidebar": "Contents",
   "toc_cell": false,
   "toc_position": {
    "height": "calc(100% - 180px)",
    "left": "10px",
    "top": "150px",
    "width": "287.358px"
   },
   "toc_section_display": true,
   "toc_window_display": true
  }
 },
 "nbformat": 4,
 "nbformat_minor": 2
}
